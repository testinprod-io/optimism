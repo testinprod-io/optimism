{
 "cells": [
  {
   "cell_type": "markdown",
   "metadata": {},
   "source": [
    "# Span Batch Analysis - Data Preparation"
   ]
  },
  {
   "cell_type": "markdown",
   "metadata": {},
   "source": [
    "## Initialization"
   ]
  },
  {
   "cell_type": "markdown",
   "metadata": {},
   "source": [
    "Before start, Fill in [secret.yml](span-batch-analysis/secret.yaml). Refer to [secret_example.yml](span-batch-analysis/secret_example.yaml). This is for specifying RPC endpoints.\n",
    "\n",
    "Also check config located at [config](span-batch-analysis/config/)."
   ]
  },
  {
   "cell_type": "code",
   "execution_count": 147,
   "metadata": {},
   "outputs": [],
   "source": [
    "import os"
   ]
  },
  {
   "cell_type": "markdown",
   "metadata": {},
   "source": [
    "Build binaries."
   ]
  },
  {
   "cell_type": "code",
   "execution_count": 148,
   "metadata": {},
   "outputs": [],
   "source": [
    "%%bash\n",
    "cd cmd/batch_decoder && go build . && cd ../../\n",
    "cd cmd/span_batch_tester && go build . && cd ../../"
   ]
  },
  {
   "cell_type": "code",
   "execution_count": 149,
   "metadata": {},
   "outputs": [],
   "source": [
    "%%capture\n",
    "%env BATCH_DECODER=cmd/batch_decoder/batch_decoder\n",
    "%env SPAN_BATCH_TESTER=cmd/span_batch_tester/span_batch_tester"
   ]
  },
  {
   "cell_type": "markdown",
   "metadata": {},
   "source": [
    "Clone superchain config."
   ]
  },
  {
   "cell_type": "code",
   "execution_count": 150,
   "metadata": {},
   "outputs": [
    {
     "name": "stderr",
     "output_type": "stream",
     "text": [
      "fatal: destination path 'superchain-registry' already exists and is not an empty directory.\n",
      "HEAD is now at 5d3ca19 superchain/extra: include minified genesis state data (#2)\n"
     ]
    }
   ],
   "source": [
    "%%bash\n",
    "git clone https://github.com/ethereum-optimism/superchain-registry\n",
    "cd superchain-registry && git checkout 5d3ca1966435827ac8c4216bddcb541ec64c1d6c && cd --"
   ]
  },
  {
   "cell_type": "markdown",
   "metadata": {},
   "source": [
    "Select your chain."
   ]
  },
  {
   "cell_type": "code",
   "execution_count": 151,
   "metadata": {},
   "outputs": [],
   "source": [
    "%%capture\n",
    "%env L1_CHAIN_NAME=mainnet\n",
    "%env L2_CHAIN_NAME=op\n",
    "\n",
    "# available networks\n",
    "#      L1 - L2 list\n",
    "# mainnet - base, op, pgn, zora\n",
    "# goerli  - base, op, zora\n",
    "# sepolia - op, pgn"
   ]
  },
  {
   "cell_type": "code",
   "execution_count": 196,
   "metadata": {},
   "outputs": [],
   "source": [
    "l1_chain_name = os.environ[\"L1_CHAIN_NAME\"]\n",
    "l2_chain_name = os.environ[\"L2_CHAIN_NAME\"]\n",
    "\n",
    "start_number = !yq eval \".start_l1_number\" \"span-batch-analysis/config/{l1_chain_name}/{l2_chain_name}.yaml\"\n",
    "start_number_value = int(start_number[0])\n",
    "end_number = !yq eval \".end_l1_number\" \"span-batch-analysis/config/{l1_chain_name}/{l2_chain_name}.yaml\"\n",
    "end_number_value = int(end_number[0])\n",
    "batch_tx_sender = !yq eval \".batch_tx_sender\" \"span-batch-analysis/config/{l1_chain_name}/{l2_chain_name}.yaml\"\n",
    "batch_tx_sender_value = batch_tx_sender[0]\n",
    "l2_genesis_timestamp = !yq eval \".genesis.l2_time\" \"superchain-registry/superchain/configs/{l1_chain_name}/{l2_chain_name}.yaml\"\n",
    "l2_genesis_timestamp_value = int(l2_genesis_timestamp[0])\n",
    "l2_chain_id = !yq eval \".chain_id\" \"superchain-registry/superchain/configs/{l1_chain_name}/{l2_chain_name}.yaml\"\n",
    "l2_chain_id_value = int(l2_chain_id[0])\n",
    "inbox_addr = !yq eval \".batch_inbox_addr\" \"superchain-registry/superchain/configs/{l1_chain_name}/{l2_chain_name}.yaml\"\n",
    "inbox_addr_value = inbox[0]\n",
    "\n",
    "acc_start_number = !yq eval \".acc_l2_start_number\" \"span-batch-analysis/config/{l1_chain_name}/{l2_chain_name}.yaml\"\n",
    "acc_start_number_value = int(acc_start_number[0])\n",
    "acc_end_number = !yq eval \".acc_l2_end_number\" \"span-batch-analysis/config/{l1_chain_name}/{l2_chain_name}.yaml\"\n",
    "acc_end_number_value = int(acc_end_number[0])"
   ]
  },
  {
   "cell_type": "markdown",
   "metadata": {},
   "source": [
    "Read analyis config."
   ]
  },
  {
   "cell_type": "code",
   "execution_count": 197,
   "metadata": {},
   "outputs": [
    {
     "name": "stdout",
     "output_type": "stream",
     "text": [
      "env: L1_START=17890000\n",
      "env: L1_END=17910000\n",
      "env: BATCH_TX_SENDER=0x6887246668a3b87F54DeB3b94Ba47a6f63F32985\n",
      "env: L2_GENESIS_TIMESTAMP=1686068903\n",
      "env: L2_CHAIN_ID=10\n",
      "env: INBOX=0xff00000000000000000000000000000000000010\n",
      "env: ACC_L2_START=107880000\n",
      "env: ACC_L2_END=107881000\n"
     ]
    }
   ],
   "source": [
    "%env L1_START=$start_number_value\n",
    "%env L1_END=$end_number_value\n",
    "%env BATCH_TX_SENDER=$batch_tx_sender_value\n",
    "%env L2_GENESIS_TIMESTAMP=$l2_genesis_timestamp_value\n",
    "%env L2_CHAIN_ID=$l2_chain_id_value\n",
    "%env INBOX=$inbox_addr_value\n",
    "\n",
    "%env ACC_L2_START=$acc_start_number_value\n",
    "%env ACC_L2_END=$acc_end_number_value\n"
   ]
  },
  {
   "cell_type": "markdown",
   "metadata": {},
   "source": [
    "Get L1 RPC from secret."
   ]
  },
  {
   "cell_type": "code",
   "execution_count": 165,
   "metadata": {},
   "outputs": [],
   "source": [
    "key_name = f\"L1_{l1_chain_name}_RPC\".upper()\n",
    "L1_RPC = !yq eval \".{key_name}\" span-batch-analysis/secret.yaml\n",
    "L1_RPC_ENDPOINT = L1_RPC[0]\n",
    "\n",
    "key_name = f\"L2_{l2_chain_name}_{l1_chain_name}_RPC\".upper()\n",
    "L2_RPC = !yq eval \".{key_name}\" span-batch-analysis/secret.yaml\n",
    "L2_RPC_ENDPOINT = L2_RPC[0]"
   ]
  },
  {
   "cell_type": "code",
   "execution_count": 168,
   "metadata": {},
   "outputs": [],
   "source": [
    "%%capture\n",
    "%env L1_RPC=$L1_RPC_ENDPOINT\n",
    "%env L2_RPC=$L2_RPC_ENDPOINT"
   ]
  },
  {
   "cell_type": "markdown",
   "metadata": {},
   "source": [
    "## Data Collection"
   ]
  },
  {
   "cell_type": "markdown",
   "metadata": {},
   "source": [
    "All data will be stored at `./artifacts/{L1_CHAIN_NAME}/{L2_CHAIN_NAME}`"
   ]
  },
  {
   "cell_type": "code",
   "execution_count": 164,
   "metadata": {},
   "outputs": [
    {
     "name": "stdout",
     "output_type": "stream",
     "text": [
      "env: DB_PREFIX=./artifacts/mainnet/op/\n"
     ]
    }
   ],
   "source": [
    "l1_chain_name = os.environ[\"L1_CHAIN_NAME\"]\n",
    "l2_chain_name = os.environ[\"L2_CHAIN_NAME\"]\n",
    "\n",
    "%env DB_PREFIX=./artifacts/$l1_chain_name/$l2_chain_name"
   ]
  },
  {
   "cell_type": "markdown",
   "metadata": {},
   "source": [
    "batch decoder `fetch`: Read channel frames from L1 by reading batch transactions."
   ]
  },
  {
   "cell_type": "code",
   "execution_count": 160,
   "metadata": {},
   "outputs": [
    {
     "name": "stdout",
     "output_type": "stream",
     "text": [
      "Fetched block:  17909988\n",
      "Fetched block:  17909992\n",
      "Fetched block:  17909981\n",
      "Fetched block:  17909985\n",
      "Fetched block:  17909989\n",
      "Fetched block:  17909995\n",
      "Fetched block:  17909994\n",
      "Fetched batches in range [17890000,17910000). Found 2163 valid & 792 invalid batches\n",
      "Fetch Config: Chain ID: 1. Inbox Address: 0xFF00000000000000000000000000000000000010. Valid Senders: map[0x6887246668a3b87F54DeB3b94Ba47a6f63F32985:{}].\n",
      "Wrote transactions with batches to ./artifacts/mainnet/op/transactions_cache\n"
     ]
    }
   ],
   "source": [
    "!$BATCH_DECODER fetch --l1=$L1_RPC --start=$L1_START --end=$L1_END --inbox=$INBOX --out=$DB_PREFIX/transactions_cache --sender=$BATCH_TX_SENDER --concurrent-requests=25 | tail -10"
   ]
  },
  {
   "cell_type": "markdown",
   "metadata": {},
   "source": [
    "batch decoder `reassemble`: Reassemble channel frames to channels. "
   ]
  },
  {
   "cell_type": "code",
   "execution_count": 162,
   "metadata": {},
   "outputs": [
    {
     "name": "stdout",
     "output_type": "stream",
     "text": [
      "Channel dda230ad9d14cfeb0cd839fe4e05424f is not ready\n",
      "Channel a396ab40b67c58c7a18c17b77c7bd73f is not ready\n"
     ]
    }
   ],
   "source": [
    "!$BATCH_DECODER reassemble --inbox=$INBOX --in=$DB_PREFIX/transactions_cache --out=$DB_PREFIX/channel_cache | tail -10"
   ]
  },
  {
   "cell_type": "markdown",
   "metadata": {},
   "source": [
    "span batch tester `convert`: Convert channels with singular batches to span batches. Try multiple tx encoding types."
   ]
  },
  {
   "cell_type": "code",
   "execution_count": 181,
   "metadata": {},
   "outputs": [
    {
     "name": "stdout",
     "output_type": "stream",
     "text": [
      "[401/410] Channel ID: fa729080158c4409583baa64ca47d871, L2StartNum: 108145198, L2EndNum: 108145492, L2BlockCnt, 295\n",
      "[402/410] Channel ID: fb294776caf374b6b5ad4dbba5b68e28, L2StartNum: 108113345, L2EndNum: 108113644, L2BlockCnt, 300\n",
      "[403/410] Channel ID: fbb60af1f1f533798757ddbfcc9d2398, L2StartNum: 108180850, L2EndNum: 108181144, L2BlockCnt, 295\n",
      "[404/410] Channel ID: fccd398169ba5666298304ae3b426310, L2StartNum: 108132765, L2EndNum: 108133059, L2BlockCnt, 295\n",
      "[405/410] Channel ID: fce92af6f5c4327ed3b57be0b2f6b1f6, L2StartNum: 108087658, L2EndNum: 108087957, L2BlockCnt, 300\n",
      "[406/410] Channel ID: fd5c7f7e7106b6b2ebd29d0304bf3e61, L2StartNum: 108146985, L2EndNum: 108147292, L2BlockCnt, 308\n",
      "[407/410] Channel ID: fe1f57497c16f7fa81fadf51ac98a2a4, L2StartNum: 108126515, L2EndNum: 108126807, L2BlockCnt, 293\n",
      "[408/410] Channel ID: feb664c9fe77328435d94dbf45956278, L2StartNum: 108133355, L2EndNum: 108133654, L2BlockCnt, 300\n",
      "[409/410] Channel ID: ff02d942b9988e8250a418028402468b, L2StartNum: 108128278, L2EndNum: 108128572, L2BlockCnt, 295\n",
      "[410/410] Channel ID: ff7de89be5bc08ae1a886fafcaf5d9ac, L2StartNum: 108176368, L2EndNum: 108176667, L2BlockCnt, 300\n"
     ]
    }
   ],
   "source": [
    "!TX_ENCODE_TYPE=0  && $SPAN_BATCH_TESTER convert --in=$DB_PREFIX/channel_cache --out=$DB_PREFIX/span_batch_cache_v$TX_ENCODE_TYPE --l2=$L2_RPC --genesis-timestamp=$L2_GENESIS_TIMESTAMP --chain-id=$L2_CHAIN_ID --tx-type=$TX_ENCODE_TYPE | tail -10"
   ]
  },
  {
   "cell_type": "code",
   "execution_count": 183,
   "metadata": {},
   "outputs": [
    {
     "name": "stdout",
     "output_type": "stream",
     "text": [
      "[401/410] Channel ID: fa729080158c4409583baa64ca47d871, L2StartNum: 108145198, L2EndNum: 108145492, L2BlockCnt, 295\n",
      "[402/410] Channel ID: fb294776caf374b6b5ad4dbba5b68e28, L2StartNum: 108113345, L2EndNum: 108113644, L2BlockCnt, 300\n",
      "[403/410] Channel ID: fbb60af1f1f533798757ddbfcc9d2398, L2StartNum: 108180850, L2EndNum: 108181144, L2BlockCnt, 295\n",
      "[404/410] Channel ID: fccd398169ba5666298304ae3b426310, L2StartNum: 108132765, L2EndNum: 108133059, L2BlockCnt, 295\n",
      "[405/410] Channel ID: fce92af6f5c4327ed3b57be0b2f6b1f6, L2StartNum: 108087658, L2EndNum: 108087957, L2BlockCnt, 300\n",
      "[406/410] Channel ID: fd5c7f7e7106b6b2ebd29d0304bf3e61, L2StartNum: 108146985, L2EndNum: 108147292, L2BlockCnt, 308\n",
      "[407/410] Channel ID: fe1f57497c16f7fa81fadf51ac98a2a4, L2StartNum: 108126515, L2EndNum: 108126807, L2BlockCnt, 293\n",
      "[408/410] Channel ID: feb664c9fe77328435d94dbf45956278, L2StartNum: 108133355, L2EndNum: 108133654, L2BlockCnt, 300\n",
      "[409/410] Channel ID: ff02d942b9988e8250a418028402468b, L2StartNum: 108128278, L2EndNum: 108128572, L2BlockCnt, 295\n",
      "[410/410] Channel ID: ff7de89be5bc08ae1a886fafcaf5d9ac, L2StartNum: 108176368, L2EndNum: 108176667, L2BlockCnt, 300\n"
     ]
    }
   ],
   "source": [
    "!TX_ENCODE_TYPE=1  && $SPAN_BATCH_TESTER convert --in=$DB_PREFIX/channel_cache --out=$DB_PREFIX/span_batch_cache_v$TX_ENCODE_TYPE --l2=$L2_RPC --genesis-timestamp=$L2_GENESIS_TIMESTAMP --chain-id=$L2_CHAIN_ID --tx-type=$TX_ENCODE_TYPE | tail -10"
   ]
  },
  {
   "cell_type": "code",
   "execution_count": 182,
   "metadata": {},
   "outputs": [
    {
     "name": "stdout",
     "output_type": "stream",
     "text": [
      "[401/410] Channel ID: fa729080158c4409583baa64ca47d871, L2StartNum: 108145198, L2EndNum: 108145492, L2BlockCnt, 295\n",
      "[402/410] Channel ID: fb294776caf374b6b5ad4dbba5b68e28, L2StartNum: 108113345, L2EndNum: 108113644, L2BlockCnt, 300\n",
      "[403/410] Channel ID: fbb60af1f1f533798757ddbfcc9d2398, L2StartNum: 108180850, L2EndNum: 108181144, L2BlockCnt, 295\n",
      "[404/410] Channel ID: fccd398169ba5666298304ae3b426310, L2StartNum: 108132765, L2EndNum: 108133059, L2BlockCnt, 295\n",
      "[405/410] Channel ID: fce92af6f5c4327ed3b57be0b2f6b1f6, L2StartNum: 108087658, L2EndNum: 108087957, L2BlockCnt, 300\n",
      "[406/410] Channel ID: fd5c7f7e7106b6b2ebd29d0304bf3e61, L2StartNum: 108146985, L2EndNum: 108147292, L2BlockCnt, 308\n",
      "[407/410] Channel ID: fe1f57497c16f7fa81fadf51ac98a2a4, L2StartNum: 108126515, L2EndNum: 108126807, L2BlockCnt, 293\n",
      "[408/410] Channel ID: feb664c9fe77328435d94dbf45956278, L2StartNum: 108133355, L2EndNum: 108133654, L2BlockCnt, 300\n",
      "[409/410] Channel ID: ff02d942b9988e8250a418028402468b, L2StartNum: 108128278, L2EndNum: 108128572, L2BlockCnt, 295\n",
      "[410/410] Channel ID: ff7de89be5bc08ae1a886fafcaf5d9ac, L2StartNum: 108176368, L2EndNum: 108176667, L2BlockCnt, 300\n"
     ]
    }
   ],
   "source": [
    "!TX_ENCODE_TYPE=2  && $SPAN_BATCH_TESTER convert --in=$DB_PREFIX/channel_cache --out=$DB_PREFIX/span_batch_cache_v$TX_ENCODE_TYPE --l2=$L2_RPC --genesis-timestamp=$L2_GENESIS_TIMESTAMP --chain-id=$L2_CHAIN_ID --tx-type=$TX_ENCODE_TYPE | tail -10"
   ]
  },
  {
   "cell_type": "markdown",
   "metadata": {},
   "source": [
    "span batch tester `analyze`: Analyze channels with singluar batches by comparing with corresponding span batches."
   ]
  },
  {
   "cell_type": "code",
   "execution_count": 193,
   "metadata": {},
   "outputs": [
    {
     "name": "stdout",
     "output_type": "stream",
     "text": [
      "[399/408] Channel ID: fa729080158c4409583baa64ca47d871, CompressedReductionPercent: 7.552134 %\n",
      "[400/408] Channel ID: fb294776caf374b6b5ad4dbba5b68e28, CompressedReductionPercent: 6.029229 %\n",
      "[401/408] Channel ID: fbb60af1f1f533798757ddbfcc9d2398, CompressedReductionPercent: 6.801038 %\n",
      "[402/408] Channel ID: fccd398169ba5666298304ae3b426310, CompressedReductionPercent: 6.601501 %\n",
      "[403/408] Channel ID: fce92af6f5c4327ed3b57be0b2f6b1f6, CompressedReductionPercent: 5.112179 %\n",
      "[404/408] Channel ID: fd5c7f7e7106b6b2ebd29d0304bf3e61, CompressedReductionPercent: 7.192620 %\n",
      "[405/408] Channel ID: fe1f57497c16f7fa81fadf51ac98a2a4, CompressedReductionPercent: 6.151228 %\n",
      "[406/408] Channel ID: feb664c9fe77328435d94dbf45956278, CompressedReductionPercent: 6.363372 %\n",
      "[407/408] Channel ID: ff02d942b9988e8250a418028402468b, CompressedReductionPercent: 5.397121 %\n",
      "[408/408] Channel ID: ff7de89be5bc08ae1a886fafcaf5d9ac, CompressedReductionPercent: 6.845907 %\n"
     ]
    }
   ],
   "source": [
    "!TX_ENCODE_TYPE=0 && $SPAN_BATCH_TESTER analyze --in-channel=$DB_PREFIX/channel_cache --in-span-batch=$DB_PREFIX/span_batch_cache_v$TX_ENCODE_TYPE --out=$DB_PREFIX/result_v$TX_ENCODE_TYPE --chain-id=$L2_CHAIN_ID --tx-type=$TX_ENCODE_TYPE | tail -10"
   ]
  },
  {
   "cell_type": "code",
   "execution_count": 194,
   "metadata": {},
   "outputs": [
    {
     "name": "stdout",
     "output_type": "stream",
     "text": [
      "[399/408] Channel ID: fa729080158c4409583baa64ca47d871, CompressedReductionPercent: 4.504091 %\n",
      "[400/408] Channel ID: fb294776caf374b6b5ad4dbba5b68e28, CompressedReductionPercent: 2.985339 %\n",
      "[401/408] Channel ID: fbb60af1f1f533798757ddbfcc9d2398, CompressedReductionPercent: 3.902365 %\n",
      "[402/408] Channel ID: fccd398169ba5666298304ae3b426310, CompressedReductionPercent: 3.586205 %\n",
      "[403/408] Channel ID: fce92af6f5c4327ed3b57be0b2f6b1f6, CompressedReductionPercent: 2.596872 %\n",
      "[404/408] Channel ID: fd5c7f7e7106b6b2ebd29d0304bf3e61, CompressedReductionPercent: 4.031155 %\n",
      "[405/408] Channel ID: fe1f57497c16f7fa81fadf51ac98a2a4, CompressedReductionPercent: 2.840200 %\n",
      "[406/408] Channel ID: feb664c9fe77328435d94dbf45956278, CompressedReductionPercent: 3.488432 %\n",
      "[407/408] Channel ID: ff02d942b9988e8250a418028402468b, CompressedReductionPercent: 2.442320 %\n",
      "[408/408] Channel ID: ff7de89be5bc08ae1a886fafcaf5d9ac, CompressedReductionPercent: 3.560317 %\n"
     ]
    }
   ],
   "source": [
    "!TX_ENCODE_TYPE=1 && $SPAN_BATCH_TESTER analyze --in-channel=$DB_PREFIX/channel_cache --in-span-batch=$DB_PREFIX/span_batch_cache_v$TX_ENCODE_TYPE --out=$DB_PREFIX/result_v$TX_ENCODE_TYPE --chain-id=$L2_CHAIN_ID --tx-type=$TX_ENCODE_TYPE | tail -10"
   ]
  },
  {
   "cell_type": "code",
   "execution_count": 195,
   "metadata": {},
   "outputs": [
    {
     "name": "stdout",
     "output_type": "stream",
     "text": [
      "[399/408] Channel ID: fa729080158c4409583baa64ca47d871, CompressedReductionPercent: 9.911946 %\n",
      "[400/408] Channel ID: fb294776caf374b6b5ad4dbba5b68e28, CompressedReductionPercent: 8.848322 %\n",
      "[401/408] Channel ID: fbb60af1f1f533798757ddbfcc9d2398, CompressedReductionPercent: 9.640019 %\n",
      "[402/408] Channel ID: fccd398169ba5666298304ae3b426310, CompressedReductionPercent: 9.290595 %\n",
      "[403/408] Channel ID: fce92af6f5c4327ed3b57be0b2f6b1f6, CompressedReductionPercent: 7.548122 %\n",
      "[404/408] Channel ID: fd5c7f7e7106b6b2ebd29d0304bf3e61, CompressedReductionPercent: 9.822700 %\n",
      "[405/408] Channel ID: fe1f57497c16f7fa81fadf51ac98a2a4, CompressedReductionPercent: 9.069339 %\n",
      "[406/408] Channel ID: feb664c9fe77328435d94dbf45956278, CompressedReductionPercent: 9.129860 %\n",
      "[407/408] Channel ID: ff02d942b9988e8250a418028402468b, CompressedReductionPercent: 8.370236 %\n",
      "[408/408] Channel ID: ff7de89be5bc08ae1a886fafcaf5d9ac, CompressedReductionPercent: 9.693027 %\n"
     ]
    }
   ],
   "source": [
    "!TX_ENCODE_TYPE=2 && $SPAN_BATCH_TESTER analyze --in-channel=$DB_PREFIX/channel_cache --in-span-batch=$DB_PREFIX/span_batch_cache_v$TX_ENCODE_TYPE --out=$DB_PREFIX/result_v$TX_ENCODE_TYPE --chain-id=$L2_CHAIN_ID --tx-type=$TX_ENCODE_TYPE | tail -10"
   ]
  },
  {
   "cell_type": "markdown",
   "metadata": {},
   "source": [
    "span batch tester `fetch`: Fetch consecutive singular batches."
   ]
  },
  {
   "cell_type": "code",
   "execution_count": 199,
   "metadata": {},
   "outputs": [
    {
     "name": "stdout",
     "output_type": "stream",
     "text": [
      "Fetched L2 block:  107880996\n",
      "Fetched L2 block:  107880997\n",
      "Fetched L2 block:  107880995\n",
      "Fetched L2 block:  107880994\n",
      "Fetched L2 block:  107880998\n",
      "Fetched L2 block:  107880782\n",
      "Fetched L2 block:  107880781\n",
      "Fetched L2 block:  107880780\n",
      "Fetched v0 batches in range [107880000,107881000).\n",
      "Fetch Config: Chain ID: 10.\n"
     ]
    }
   ],
   "source": [
    "!$SPAN_BATCH_TESTER fetch --l2 $L2_RPC --start=$ACC_L2_START --end=$ACC_L2_END --concurrent-requests=100 --out=$DB_PREFIX/singular_batches_cache | tail -10"
   ]
  },
  {
   "cell_type": "markdown",
   "metadata": {},
   "source": [
    "span batch tester `merge`: Merge singular batches:\n",
    "\n",
    "This command will analyze `start - end` number of batches, Comparing uncompressed size of below two batches:\n",
    "- For `i` in range  `0` to `start - end - 1`\n",
    "  - singular batch from number `start` to `start + i`, inclusive.\n",
    "  - span batch from number `start` to `start + i`, inclusive.\n",
    "\n",
    "Upper command will make a result json file which has name of the form `{start_number}_{end_number}.json`."
   ]
  },
  {
   "cell_type": "code",
   "execution_count": 200,
   "metadata": {},
   "outputs": [
    {
     "name": "stdout",
     "output_type": "stream",
     "text": [
      "Merged v0 batches in range [107880000,107881000).\n"
     ]
    }
   ],
   "source": [
    "!$SPAN_BATCH_TESTER merge --start=$ACC_L2_START --end=$ACC_L2_END --l2 $L2_RPC --genesis-timestamp=$L2_GENESIS_TIMESTAMP --in=$DB_PREFIX/singular_batches_cache --out=$DB_PREFIX/merge_result | tee -10"
   ]
  }
 ],
 "metadata": {
  "kernelspec": {
   "display_name": "Python 3",
   "language": "python",
   "name": "python3"
  },
  "language_info": {
   "codemirror_mode": {
    "name": "ipython",
    "version": 3
   },
   "file_extension": ".py",
   "mimetype": "text/x-python",
   "name": "python",
   "nbconvert_exporter": "python",
   "pygments_lexer": "ipython3",
   "version": "3.9.6"
  },
  "orig_nbformat": 4
 },
 "nbformat": 4,
 "nbformat_minor": 2
}

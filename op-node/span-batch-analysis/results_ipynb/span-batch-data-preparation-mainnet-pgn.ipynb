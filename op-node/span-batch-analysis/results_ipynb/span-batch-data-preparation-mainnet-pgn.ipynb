{
 "cells": [
  {
   "cell_type": "markdown",
   "metadata": {},
   "source": [
    "# Span Batch Analysis - Data Preparation"
   ]
  },
  {
   "cell_type": "markdown",
   "metadata": {},
   "source": [
    "## Initialization"
   ]
  },
  {
   "cell_type": "markdown",
   "metadata": {},
   "source": [
    "Before start, Fill in [secret.yml](span-batch-analysis/secret.yaml). Refer to [secret_example.yml](span-batch-analysis/secret_example.yaml). This is for specifying RPC endpoints.\n",
    "\n",
    "Also check config located at [config](span-batch-analysis/config/)."
   ]
  },
  {
   "cell_type": "code",
   "execution_count": 2,
   "metadata": {},
   "outputs": [],
   "source": [
    "import os"
   ]
  },
  {
   "cell_type": "markdown",
   "metadata": {},
   "source": [
    "Build binaries."
   ]
  },
  {
   "cell_type": "code",
   "execution_count": 3,
   "metadata": {},
   "outputs": [],
   "source": [
    "%%bash\n",
    "cd cmd/batch_decoder && go build . && cd ../../\n",
    "cd cmd/span_batch_tester && go build . && cd ../../"
   ]
  },
  {
   "cell_type": "code",
   "execution_count": 4,
   "metadata": {},
   "outputs": [],
   "source": [
    "%%capture\n",
    "%env BATCH_DECODER=cmd/batch_decoder/batch_decoder\n",
    "%env SPAN_BATCH_TESTER=cmd/span_batch_tester/span_batch_tester"
   ]
  },
  {
   "cell_type": "markdown",
   "metadata": {},
   "source": [
    "Clone superchain config."
   ]
  },
  {
   "cell_type": "code",
   "execution_count": 5,
   "metadata": {},
   "outputs": [
    {
     "name": "stderr",
     "output_type": "stream",
     "text": [
      "fatal: destination path 'superchain-registry' already exists and is not an empty directory.\n"
     ]
    },
    {
     "name": "stderr",
     "output_type": "stream",
     "text": [
      "HEAD is now at 5d3ca19 superchain/extra: include minified genesis state data (#2)\n"
     ]
    }
   ],
   "source": [
    "%%bash\n",
    "git clone https://github.com/ethereum-optimism/superchain-registry\n",
    "cd superchain-registry && git checkout 5d3ca1966435827ac8c4216bddcb541ec64c1d6c && cd --"
   ]
  },
  {
   "cell_type": "markdown",
   "metadata": {},
   "source": [
    "Select your chain."
   ]
  },
  {
   "cell_type": "code",
   "execution_count": 6,
   "metadata": {},
   "outputs": [],
   "source": [
    "%%capture\n",
    "%env L1_CHAIN_NAME=mainnet\n",
    "%env L2_CHAIN_NAME=pgn\n",
    "\n",
    "# available networks\n",
    "#      L1 - L2 list\n",
    "# mainnet - base, op, pgn, zora\n",
    "# goerli  - base, op, zora\n",
    "# sepolia - op, pgn"
   ]
  },
  {
   "cell_type": "code",
   "execution_count": 7,
   "metadata": {},
   "outputs": [],
   "source": [
    "l1_chain_name = os.environ[\"L1_CHAIN_NAME\"]\n",
    "l2_chain_name = os.environ[\"L2_CHAIN_NAME\"]\n",
    "\n",
    "start_number = !yq eval \".start_l1_number\" \"span-batch-analysis/config/{l1_chain_name}/{l2_chain_name}.yaml\"\n",
    "start_number_value = int(start_number[0])\n",
    "end_number = !yq eval \".end_l1_number\" \"span-batch-analysis/config/{l1_chain_name}/{l2_chain_name}.yaml\"\n",
    "end_number_value = int(end_number[0])\n",
    "batch_tx_sender = !yq eval \".batch_tx_sender\" \"span-batch-analysis/config/{l1_chain_name}/{l2_chain_name}.yaml\"\n",
    "batch_tx_sender_value = batch_tx_sender[0]\n",
    "l2_genesis_timestamp = !yq eval \".genesis.l2_time\" \"superchain-registry/superchain/configs/{l1_chain_name}/{l2_chain_name}.yaml\"\n",
    "l2_genesis_timestamp_value = int(l2_genesis_timestamp[0])\n",
    "l2_chain_id = !yq eval \".chain_id\" \"superchain-registry/superchain/configs/{l1_chain_name}/{l2_chain_name}.yaml\"\n",
    "l2_chain_id_value = int(l2_chain_id[0])\n",
    "inbox_addr = !yq eval \".batch_inbox_addr\" \"superchain-registry/superchain/configs/{l1_chain_name}/{l2_chain_name}.yaml\"\n",
    "inbox_addr_value = inbox_addr[0]\n",
    "\n",
    "acc_start_number = !yq eval \".acc_l2_start_number\" \"span-batch-analysis/config/{l1_chain_name}/{l2_chain_name}.yaml\"\n",
    "acc_start_number_value = int(acc_start_number[0])\n",
    "acc_end_number = !yq eval \".acc_l2_end_number\" \"span-batch-analysis/config/{l1_chain_name}/{l2_chain_name}.yaml\"\n",
    "acc_end_number_value = int(acc_end_number[0])"
   ]
  },
  {
   "cell_type": "markdown",
   "metadata": {},
   "source": [
    "Read analyis config."
   ]
  },
  {
   "cell_type": "code",
   "execution_count": 8,
   "metadata": {},
   "outputs": [
    {
     "name": "stdout",
     "output_type": "stream",
     "text": [
      "env: L1_START=18005000\n",
      "env: L1_END=18025000\n",
      "env: BATCH_TX_SENDER=0x99526b0e49a95833e734eb556a6abaffab0ee167\n",
      "env: L2_GENESIS_TIMESTAMP=1689106727\n",
      "env: L2_CHAIN_ID=424\n",
      "env: INBOX=0xC1B90E1e459aBBDcEc4DCF90dA45ba077d83BFc5\n",
      "env: ACC_L2_START=2142000\n",
      "env: ACC_L2_END=2143000\n"
     ]
    }
   ],
   "source": [
    "%env L1_START=$start_number_value\n",
    "%env L1_END=$end_number_value\n",
    "%env BATCH_TX_SENDER=$batch_tx_sender_value\n",
    "%env L2_GENESIS_TIMESTAMP=$l2_genesis_timestamp_value\n",
    "%env L2_CHAIN_ID=$l2_chain_id_value\n",
    "%env INBOX=$inbox_addr_value\n",
    "\n",
    "%env ACC_L2_START=$acc_start_number_value\n",
    "%env ACC_L2_END=$acc_end_number_value\n"
   ]
  },
  {
   "cell_type": "markdown",
   "metadata": {},
   "source": [
    "Get L1 RPC from secret."
   ]
  },
  {
   "cell_type": "code",
   "execution_count": 9,
   "metadata": {},
   "outputs": [],
   "source": [
    "key_name = f\"L1_{l1_chain_name}_RPC\".upper()\n",
    "L1_RPC = !yq eval \".{key_name}\" span-batch-analysis/secret.yaml\n",
    "L1_RPC_ENDPOINT = L1_RPC[0]\n",
    "\n",
    "key_name = f\"L2_{l2_chain_name}_{l1_chain_name}_RPC\".upper()\n",
    "L2_RPC = !yq eval \".{key_name}\" span-batch-analysis/secret.yaml\n",
    "L2_RPC_ENDPOINT = L2_RPC[0]"
   ]
  },
  {
   "cell_type": "code",
   "execution_count": 10,
   "metadata": {},
   "outputs": [],
   "source": [
    "%%capture\n",
    "%env L1_RPC=$L1_RPC_ENDPOINT\n",
    "%env L2_RPC=$L2_RPC_ENDPOINT"
   ]
  },
  {
   "cell_type": "markdown",
   "metadata": {},
   "source": [
    "## Data Collection"
   ]
  },
  {
   "cell_type": "markdown",
   "metadata": {},
   "source": [
    "All data will be stored at `./artifacts/{L1_CHAIN_NAME}/{L2_CHAIN_NAME}`"
   ]
  },
  {
   "cell_type": "code",
   "execution_count": 11,
   "metadata": {},
   "outputs": [
    {
     "name": "stdout",
     "output_type": "stream",
     "text": [
      "env: DB_PREFIX=./artifacts/mainnet/pgn\n"
     ]
    }
   ],
   "source": [
    "l1_chain_name = os.environ[\"L1_CHAIN_NAME\"]\n",
    "l2_chain_name = os.environ[\"L2_CHAIN_NAME\"]\n",
    "\n",
    "%env DB_PREFIX=./artifacts/$l1_chain_name/$l2_chain_name"
   ]
  },
  {
   "cell_type": "markdown",
   "metadata": {},
   "source": [
    "batch decoder `fetch`: Read channel frames from L1 by reading batch transactions."
   ]
  },
  {
   "cell_type": "code",
   "execution_count": 11,
   "metadata": {},
   "outputs": [
    {
     "name": "stdout",
     "output_type": "stream",
     "text": [
      "Fetched block:  18024989\n",
      "Fetched block:  18024996\n",
      "Fetched block:  18024971\n",
      "Fetched block:  18024998\n",
      "Fetched block:  18024987\n",
      "Fetched block:  18024981\n",
      "Fetched block:  18024984\n",
      "Fetched batches in range [18005000,18025000). Found 408 valid & 0 invalid batches\n",
      "Fetch Config: Chain ID: 1. Inbox Address: 0xC1B90E1e459aBBDcEc4DCF90dA45ba077d83BFc5. Valid Senders: map[0x99526b0e49A95833E734EB556A6aBaFFAb0Ee167:{}].\n",
      "Wrote transactions with batches to ./artifacts/mainnet/pgn/transactions_cache\n"
     ]
    }
   ],
   "source": [
    "!$BATCH_DECODER fetch --l1=$L1_RPC --start=$L1_START --end=$L1_END --inbox=$INBOX --out=$DB_PREFIX/transactions_cache --sender=$BATCH_TX_SENDER --concurrent-requests=25 | tail -10"
   ]
  },
  {
   "cell_type": "markdown",
   "metadata": {},
   "source": [
    "batch decoder `reassemble`: Reassemble channel frames to channels. "
   ]
  },
  {
   "cell_type": "code",
   "execution_count": 12,
   "metadata": {},
   "outputs": [],
   "source": [
    "!$BATCH_DECODER reassemble --inbox=$INBOX --in=$DB_PREFIX/transactions_cache --out=$DB_PREFIX/channel_cache | tail -10"
   ]
  },
  {
   "cell_type": "markdown",
   "metadata": {},
   "source": [
    "span batch tester `convert`: Convert channels with singular batches to span batches. Try multiple tx encoding types."
   ]
  },
  {
   "cell_type": "code",
   "execution_count": 13,
   "metadata": {},
   "outputs": [
    {
     "name": "stdout",
     "output_type": "stream",
     "text": [
      "[399/408] Channel ID: f718760db35172a2224b731719ed6c76, L2StartNum: 2099776, L2EndNum: 2100073, L2BlockCnt, 298\n",
      "[400/408] Channel ID: f8e001697b195b21e58a35126a52ec5b, L2StartNum: 2077784, L2EndNum: 2078085, L2BlockCnt, 302\n",
      "[401/408] Channel ID: f9427495f0dbf967f238998c44011902, L2StartNum: 2124724, L2EndNum: 2125023, L2BlockCnt, 300\n",
      "[402/408] Channel ID: f999b633449917a75d12a1236b697de0, L2StartNum: 2060554, L2EndNum: 2060845, L2BlockCnt, 292\n",
      "[403/408] Channel ID: f9aa2069176be12edd4f34c6a863764b, L2StartNum: 2043099, L2EndNum: 2043390, L2BlockCnt, 292\n",
      "[404/408] Channel ID: fae0d8a3afd0ae92befaebf716c3fd11, L2StartNum: 2070094, L2EndNum: 2070393, L2BlockCnt, 300\n",
      "[405/408] Channel ID: fb44b33b51a977272b32d4fe0713f810, L2StartNum: 2087589, L2EndNum: 2087888, L2BlockCnt, 300\n",
      "[406/408] Channel ID: fd22d73ca508673ef67453f79f518e7e, L2StartNum: 2014856, L2EndNum: 2015150, L2BlockCnt, 295\n",
      "[407/408] Channel ID: fe37e62106e73584f7934c3c1201a6f5, L2StartNum: 2021379, L2EndNum: 2021678, L2BlockCnt, 300\n",
      "[408/408] Channel ID: fec8a38f594dbce0c01c89dff3471f6d, L2StartNum: 2106926, L2EndNum: 2107220, L2BlockCnt, 295\n"
     ]
    }
   ],
   "source": [
    "!TX_ENCODE_TYPE=0  && $SPAN_BATCH_TESTER convert --in=$DB_PREFIX/channel_cache --out=$DB_PREFIX/span_batch_cache_v$TX_ENCODE_TYPE --l2=$L2_RPC --genesis-timestamp=$L2_GENESIS_TIMESTAMP --chain-id=$L2_CHAIN_ID --tx-type=$TX_ENCODE_TYPE | tail -10"
   ]
  },
  {
   "cell_type": "code",
   "execution_count": 14,
   "metadata": {},
   "outputs": [
    {
     "name": "stdout",
     "output_type": "stream",
     "text": [
      "[399/408] Channel ID: f718760db35172a2224b731719ed6c76, L2StartNum: 2099776, L2EndNum: 2100073, L2BlockCnt, 298\n",
      "[400/408] Channel ID: f8e001697b195b21e58a35126a52ec5b, L2StartNum: 2077784, L2EndNum: 2078085, L2BlockCnt, 302\n",
      "[401/408] Channel ID: f9427495f0dbf967f238998c44011902, L2StartNum: 2124724, L2EndNum: 2125023, L2BlockCnt, 300\n",
      "[402/408] Channel ID: f999b633449917a75d12a1236b697de0, L2StartNum: 2060554, L2EndNum: 2060845, L2BlockCnt, 292\n",
      "[403/408] Channel ID: f9aa2069176be12edd4f34c6a863764b, L2StartNum: 2043099, L2EndNum: 2043390, L2BlockCnt, 292\n",
      "[404/408] Channel ID: fae0d8a3afd0ae92befaebf716c3fd11, L2StartNum: 2070094, L2EndNum: 2070393, L2BlockCnt, 300\n",
      "[405/408] Channel ID: fb44b33b51a977272b32d4fe0713f810, L2StartNum: 2087589, L2EndNum: 2087888, L2BlockCnt, 300\n",
      "[406/408] Channel ID: fd22d73ca508673ef67453f79f518e7e, L2StartNum: 2014856, L2EndNum: 2015150, L2BlockCnt, 295\n",
      "[407/408] Channel ID: fe37e62106e73584f7934c3c1201a6f5, L2StartNum: 2021379, L2EndNum: 2021678, L2BlockCnt, 300\n",
      "[408/408] Channel ID: fec8a38f594dbce0c01c89dff3471f6d, L2StartNum: 2106926, L2EndNum: 2107220, L2BlockCnt, 295\n"
     ]
    }
   ],
   "source": [
    "!TX_ENCODE_TYPE=1  && $SPAN_BATCH_TESTER convert --in=$DB_PREFIX/channel_cache --out=$DB_PREFIX/span_batch_cache_v$TX_ENCODE_TYPE --l2=$L2_RPC --genesis-timestamp=$L2_GENESIS_TIMESTAMP --chain-id=$L2_CHAIN_ID --tx-type=$TX_ENCODE_TYPE | tail -10"
   ]
  },
  {
   "cell_type": "code",
   "execution_count": 15,
   "metadata": {},
   "outputs": [
    {
     "name": "stdout",
     "output_type": "stream",
     "text": [
      "[399/408] Channel ID: f718760db35172a2224b731719ed6c76, L2StartNum: 2099776, L2EndNum: 2100073, L2BlockCnt, 298\n",
      "[400/408] Channel ID: f8e001697b195b21e58a35126a52ec5b, L2StartNum: 2077784, L2EndNum: 2078085, L2BlockCnt, 302\n",
      "[401/408] Channel ID: f9427495f0dbf967f238998c44011902, L2StartNum: 2124724, L2EndNum: 2125023, L2BlockCnt, 300\n",
      "[402/408] Channel ID: f999b633449917a75d12a1236b697de0, L2StartNum: 2060554, L2EndNum: 2060845, L2BlockCnt, 292\n",
      "[403/408] Channel ID: f9aa2069176be12edd4f34c6a863764b, L2StartNum: 2043099, L2EndNum: 2043390, L2BlockCnt, 292\n",
      "[404/408] Channel ID: fae0d8a3afd0ae92befaebf716c3fd11, L2StartNum: 2070094, L2EndNum: 2070393, L2BlockCnt, 300\n",
      "[405/408] Channel ID: fb44b33b51a977272b32d4fe0713f810, L2StartNum: 2087589, L2EndNum: 2087888, L2BlockCnt, 300\n",
      "[406/408] Channel ID: fd22d73ca508673ef67453f79f518e7e, L2StartNum: 2014856, L2EndNum: 2015150, L2BlockCnt, 295\n",
      "[407/408] Channel ID: fe37e62106e73584f7934c3c1201a6f5, L2StartNum: 2021379, L2EndNum: 2021678, L2BlockCnt, 300\n",
      "[408/408] Channel ID: fec8a38f594dbce0c01c89dff3471f6d, L2StartNum: 2106926, L2EndNum: 2107220, L2BlockCnt, 295\n"
     ]
    }
   ],
   "source": [
    "!TX_ENCODE_TYPE=2  && $SPAN_BATCH_TESTER convert --in=$DB_PREFIX/channel_cache --out=$DB_PREFIX/span_batch_cache_v$TX_ENCODE_TYPE --l2=$L2_RPC --genesis-timestamp=$L2_GENESIS_TIMESTAMP --chain-id=$L2_CHAIN_ID --tx-type=$TX_ENCODE_TYPE | tail -10"
   ]
  },
  {
   "cell_type": "markdown",
   "metadata": {},
   "source": [
    "span batch tester `analyze`: Analyze channels with singluar batches by comparing with corresponding span batches."
   ]
  },
  {
   "cell_type": "code",
   "execution_count": 16,
   "metadata": {},
   "outputs": [
    {
     "name": "stdout",
     "output_type": "stream",
     "text": [
      "[399/408] Channel ID: f718760db35172a2224b731719ed6c76, CompressedReductionPercent: 59.449730 %\n",
      "[400/408] Channel ID: f8e001697b195b21e58a35126a52ec5b, CompressedReductionPercent: 87.811448 %\n",
      "[401/408] Channel ID: f9427495f0dbf967f238998c44011902, CompressedReductionPercent: 99.220198 %\n",
      "[402/408] Channel ID: f999b633449917a75d12a1236b697de0, CompressedReductionPercent: 72.608308 %\n",
      "[403/408] Channel ID: f9aa2069176be12edd4f34c6a863764b, CompressedReductionPercent: 84.994978 %\n",
      "[404/408] Channel ID: fae0d8a3afd0ae92befaebf716c3fd11, CompressedReductionPercent: 74.517266 %\n",
      "[405/408] Channel ID: fb44b33b51a977272b32d4fe0713f810, CompressedReductionPercent: 68.855047 %\n",
      "[406/408] Channel ID: fd22d73ca508673ef67453f79f518e7e, CompressedReductionPercent: 74.344655 %\n",
      "[407/408] Channel ID: fe37e62106e73584f7934c3c1201a6f5, CompressedReductionPercent: 79.385007 %\n",
      "[408/408] Channel ID: fec8a38f594dbce0c01c89dff3471f6d, CompressedReductionPercent: 96.903906 %\n"
     ]
    }
   ],
   "source": [
    "!TX_ENCODE_TYPE=0 && $SPAN_BATCH_TESTER analyze --in-channel=$DB_PREFIX/channel_cache --in-span-batch=$DB_PREFIX/span_batch_cache_v$TX_ENCODE_TYPE --out=$DB_PREFIX/result_v$TX_ENCODE_TYPE --chain-id=$L2_CHAIN_ID --tx-type=$TX_ENCODE_TYPE | tail -10"
   ]
  },
  {
   "cell_type": "code",
   "execution_count": 17,
   "metadata": {},
   "outputs": [
    {
     "name": "stdout",
     "output_type": "stream",
     "text": [
      "[399/408] Channel ID: f718760db35172a2224b731719ed6c76, CompressedReductionPercent: 58.549756 %\n",
      "[400/408] Channel ID: f8e001697b195b21e58a35126a52ec5b, CompressedReductionPercent: 87.535354 %\n",
      "[401/408] Channel ID: f9427495f0dbf967f238998c44011902, CompressedReductionPercent: 99.212477 %\n",
      "[402/408] Channel ID: f999b633449917a75d12a1236b697de0, CompressedReductionPercent: 72.062590 %\n",
      "[403/408] Channel ID: f9aa2069176be12edd4f34c6a863764b, CompressedReductionPercent: 84.780716 %\n",
      "[404/408] Channel ID: fae0d8a3afd0ae92befaebf716c3fd11, CompressedReductionPercent: 74.091901 %\n",
      "[405/408] Channel ID: fb44b33b51a977272b32d4fe0713f810, CompressedReductionPercent: 68.167465 %\n",
      "[406/408] Channel ID: fd22d73ca508673ef67453f79f518e7e, CompressedReductionPercent: 73.843173 %\n",
      "[407/408] Channel ID: fe37e62106e73584f7934c3c1201a6f5, CompressedReductionPercent: 79.075691 %\n",
      "[408/408] Channel ID: fec8a38f594dbce0c01c89dff3471f6d, CompressedReductionPercent: 96.796881 %\n"
     ]
    }
   ],
   "source": [
    "!TX_ENCODE_TYPE=1 && $SPAN_BATCH_TESTER analyze --in-channel=$DB_PREFIX/channel_cache --in-span-batch=$DB_PREFIX/span_batch_cache_v$TX_ENCODE_TYPE --out=$DB_PREFIX/result_v$TX_ENCODE_TYPE --chain-id=$L2_CHAIN_ID --tx-type=$TX_ENCODE_TYPE | tail -10"
   ]
  },
  {
   "cell_type": "code",
   "execution_count": 18,
   "metadata": {},
   "outputs": [
    {
     "name": "stdout",
     "output_type": "stream",
     "text": [
      "[399/408] Channel ID: f718760db35172a2224b731719ed6c76, CompressedReductionPercent: 59.895432 %\n",
      "[400/408] Channel ID: f8e001697b195b21e58a35126a52ec5b, CompressedReductionPercent: 88.060606 %\n",
      "[401/408] Channel ID: f9427495f0dbf967f238998c44011902, CompressedReductionPercent: 99.220198 %\n",
      "[402/408] Channel ID: f999b633449917a75d12a1236b697de0, CompressedReductionPercent: 72.814345 %\n",
      "[403/408] Channel ID: f9aa2069176be12edd4f34c6a863764b, CompressedReductionPercent: 85.148979 %\n",
      "[404/408] Channel ID: fae0d8a3afd0ae92befaebf716c3fd11, CompressedReductionPercent: 74.797112 %\n",
      "[405/408] Channel ID: fb44b33b51a977272b32d4fe0713f810, CompressedReductionPercent: 69.247224 %\n",
      "[406/408] Channel ID: fd22d73ca508673ef67453f79f518e7e, CompressedReductionPercent: 74.686574 %\n",
      "[407/408] Channel ID: fe37e62106e73584f7934c3c1201a6f5, CompressedReductionPercent: 79.566958 %\n",
      "[408/408] Channel ID: fec8a38f594dbce0c01c89dff3471f6d, CompressedReductionPercent: 97.010932 %\n"
     ]
    }
   ],
   "source": [
    "!TX_ENCODE_TYPE=2 && $SPAN_BATCH_TESTER analyze --in-channel=$DB_PREFIX/channel_cache --in-span-batch=$DB_PREFIX/span_batch_cache_v$TX_ENCODE_TYPE --out=$DB_PREFIX/result_v$TX_ENCODE_TYPE --chain-id=$L2_CHAIN_ID --tx-type=$TX_ENCODE_TYPE | tail -10"
   ]
  },
  {
   "cell_type": "markdown",
   "metadata": {},
   "source": [
    "span batch tester `fetch`: Fetch consecutive singular batches."
   ]
  },
  {
   "cell_type": "code",
   "execution_count": 19,
   "metadata": {},
   "outputs": [
    {
     "name": "stdout",
     "output_type": "stream",
     "text": [
      "Fetched L2 block:  2142992\n",
      "Fetched L2 block:  2142993\n",
      "Fetched L2 block:  2142995\n",
      "Fetched L2 block:  2142994\n",
      "Fetched L2 block:  2142998\n",
      "Fetched L2 block:  2142997\n",
      "Fetched L2 block:  2142996\n",
      "Fetched L2 block:  2142999\n",
      "Fetched v0 batches in range [2142000,2143000).\n",
      "Fetch Config: Chain ID: 424.\n"
     ]
    }
   ],
   "source": [
    "!$SPAN_BATCH_TESTER fetch --l2 $L2_RPC --start=$ACC_L2_START --end=$ACC_L2_END --concurrent-requests=100 --out=$DB_PREFIX/singular_batches_cache | tail -10"
   ]
  },
  {
   "cell_type": "markdown",
   "metadata": {},
   "source": [
    "span batch tester `merge`: Merge singular batches:\n",
    "\n",
    "This command will analyze `start - end` number of batches, Comparing uncompressed size of below two batches:\n",
    "- For `i` in range  `0` to `start - end - 1`\n",
    "  - singular batch from number `start` to `start + i`, inclusive.\n",
    "  - span batch from number `start` to `start + i`, inclusive.\n",
    "\n",
    "Upper command will make a result json file which has name of the form `{start_number}_{end_number}.json`."
   ]
  },
  {
   "cell_type": "code",
   "execution_count": 12,
   "metadata": {},
   "outputs": [
    {
     "name": "stdout",
     "output_type": "stream",
     "text": [
      "Merged v0 batches in range [2142000,2143000).\n"
     ]
    }
   ],
   "source": [
    "!$SPAN_BATCH_TESTER merge --start=$ACC_L2_START --end=$ACC_L2_END --l2 $L2_RPC --genesis-timestamp=$L2_GENESIS_TIMESTAMP --in=$DB_PREFIX/singular_batches_cache --out=$DB_PREFIX/merge_result | tail -10"
   ]
  },
  {
   "cell_type": "markdown",
   "metadata": {},
   "source": [
    "span batch tester `format`: Compare different tx encodings for span batch.\n"
   ]
  },
  {
   "cell_type": "code",
   "execution_count": 21,
   "metadata": {},
   "outputs": [
    {
     "name": "stdout",
     "output_type": "stream",
     "text": [
      "Reduction Percentage: 0.000000 %\n",
      "[405/408] cnt: 377, delta: 0, deltasum: 57, originalCompressedSizeSum: 1381358\n",
      "Reduction Percentage: 0.000000 %\n",
      "[406/408] cnt: 378, delta: 1, deltasum: 58, originalCompressedSizeSum: 1385799\n",
      "Reduction Percentage: 0.022517 %\n",
      "[407/408] cnt: 379, delta: 5, deltasum: 63, originalCompressedSizeSum: 1389168\n",
      "Reduction Percentage: 0.148412 %\n",
      "[408/408] cnt: 380, delta: 0, deltasum: 63, originalCompressedSizeSum: 1389559\n",
      "Reduction Percentage: 0.000000 %\n",
      "Final Reduction Percentage: 0.004534 %\n"
     ]
    }
   ],
   "source": [
    "!$SPAN_BATCH_TESTER format --permutation 0123465 --in-span-batch=$DB_PREFIX/span_batch_cache_v2 --out=$DB_PREFIX/format_result --chain-id=$L2_CHAIN_ID | tail -10"
   ]
  },
  {
   "cell_type": "code",
   "execution_count": 22,
   "metadata": {},
   "outputs": [
    {
     "name": "stdout",
     "output_type": "stream",
     "text": [
      "Reduction Percentage: -0.022207 %\n",
      "[405/408] cnt: 388, delta: 2, deltasum: 452, originalCompressedSizeSum: 1381358\n",
      "Reduction Percentage: 0.033129 %\n",
      "[406/408] cnt: 389, delta: 1, deltasum: 453, originalCompressedSizeSum: 1385799\n",
      "Reduction Percentage: 0.022517 %\n",
      "[407/408] cnt: 390, delta: 1, deltasum: 454, originalCompressedSizeSum: 1389168\n",
      "Reduction Percentage: 0.029682 %\n",
      "[408/408] cnt: 391, delta: 0, deltasum: 454, originalCompressedSizeSum: 1389559\n",
      "Reduction Percentage: 0.000000 %\n",
      "Final Reduction Percentage: 0.032672 %\n"
     ]
    }
   ],
   "source": [
    "!$SPAN_BATCH_TESTER format --permutation 0134625 --in-span-batch=$DB_PREFIX/span_batch_cache_v2 --out=$DB_PREFIX/format_result --chain-id=$L2_CHAIN_ID | tail -10"
   ]
  },
  {
   "cell_type": "code",
   "execution_count": 23,
   "metadata": {},
   "outputs": [
    {
     "name": "stdout",
     "output_type": "stream",
     "text": [
      "Reduction Percentage: 0.000000 %\n",
      "[405/408] cnt: 319, delta: 1, deltasum: 357, originalCompressedSizeSum: 1381358\n",
      "Reduction Percentage: 0.016565 %\n",
      "[406/408] cnt: 320, delta: 3, deltasum: 360, originalCompressedSizeSum: 1385799\n",
      "Reduction Percentage: 0.067552 %\n",
      "[407/408] cnt: 321, delta: 8, deltasum: 368, originalCompressedSizeSum: 1389168\n",
      "Reduction Percentage: 0.237459 %\n",
      "[408/408] cnt: 321, delta: -2, deltasum: 366, originalCompressedSizeSum: 1389559\n",
      "Reduction Percentage: -0.511509 %\n",
      "Final Reduction Percentage: 0.026339 %\n"
     ]
    }
   ],
   "source": [
    "!$SPAN_BATCH_TESTER format --permutation 3041265 --in-span-batch=$DB_PREFIX/span_batch_cache_v2 --out=$DB_PREFIX/format_result --chain-id=$L2_CHAIN_ID | tail -10"
   ]
  },
  {
   "cell_type": "code",
   "execution_count": 24,
   "metadata": {},
   "outputs": [
    {
     "name": "stdout",
     "output_type": "stream",
     "text": [
      "Reduction Percentage: 0.000000 %\n",
      "[405/408] cnt: 326, delta: -1, deltasum: 77, originalCompressedSizeSum: 1381358\n",
      "Reduction Percentage: -0.016565 %\n",
      "[406/408] cnt: 326, delta: -1, deltasum: 76, originalCompressedSizeSum: 1385799\n",
      "Reduction Percentage: -0.022517 %\n",
      "[407/408] cnt: 327, delta: 0, deltasum: 76, originalCompressedSizeSum: 1389168\n",
      "Reduction Percentage: 0.000000 %\n",
      "[408/408] cnt: 328, delta: 0, deltasum: 76, originalCompressedSizeSum: 1389559\n",
      "Reduction Percentage: 0.000000 %\n",
      "Final Reduction Percentage: 0.005469 %\n"
     ]
    }
   ],
   "source": [
    "!$SPAN_BATCH_TESTER format --permutation 0125634 --in-span-batch=$DB_PREFIX/span_batch_cache_v2 --out=$DB_PREFIX/format_result --chain-id=$L2_CHAIN_ID | tail -10"
   ]
  },
  {
   "cell_type": "code",
   "execution_count": 25,
   "metadata": {},
   "outputs": [
    {
     "name": "stdout",
     "output_type": "stream",
     "text": [
      "Reduction Percentage: 0.044415 %\n",
      "[405/408] cnt: 379, delta: 2, deltasum: 587, originalCompressedSizeSum: 1381358\n",
      "Reduction Percentage: 0.033129 %\n",
      "[406/408] cnt: 380, delta: 3, deltasum: 590, originalCompressedSizeSum: 1385799\n",
      "Reduction Percentage: 0.067552 %\n",
      "[407/408] cnt: 381, delta: 6, deltasum: 596, originalCompressedSizeSum: 1389168\n",
      "Reduction Percentage: 0.178094 %\n",
      "[408/408] cnt: 381, delta: -1, deltasum: 595, originalCompressedSizeSum: 1389559\n",
      "Reduction Percentage: -0.255754 %\n",
      "Final Reduction Percentage: 0.042819 %\n"
     ]
    }
   ],
   "source": [
    "!$SPAN_BATCH_TESTER format --permutation 0324165 --in-span-batch=$DB_PREFIX/span_batch_cache_v2 --out=$DB_PREFIX/format_result --chain-id=$L2_CHAIN_ID | tail -10"
   ]
  },
  {
   "cell_type": "code",
   "execution_count": 26,
   "metadata": {},
   "outputs": [
    {
     "name": "stdout",
     "output_type": "stream",
     "text": [
      "Reduction Percentage: 0.000000 %\n",
      "[405/408] cnt: 306, delta: 1, deltasum: 287, originalCompressedSizeSum: 1381358\n",
      "Reduction Percentage: 0.016565 %\n",
      "[406/408] cnt: 307, delta: 2, deltasum: 289, originalCompressedSizeSum: 1385799\n",
      "Reduction Percentage: 0.045035 %\n",
      "[407/408] cnt: 308, delta: 7, deltasum: 296, originalCompressedSizeSum: 1389168\n",
      "Reduction Percentage: 0.207777 %\n",
      "[408/408] cnt: 308, delta: -2, deltasum: 294, originalCompressedSizeSum: 1389559\n",
      "Reduction Percentage: -0.511509 %\n",
      "Final Reduction Percentage: 0.021158 %\n"
     ]
    }
   ],
   "source": [
    "!$SPAN_BATCH_TESTER format --permutation 3041256 --in-span-batch=$DB_PREFIX/span_batch_cache_v2 --out=$DB_PREFIX/format_result --chain-id=$L2_CHAIN_ID | tail -10"
   ]
  },
  {
   "cell_type": "code",
   "execution_count": 27,
   "metadata": {},
   "outputs": [
    {
     "name": "stdout",
     "output_type": "stream",
     "text": [
      "Reduction Percentage: -0.022207 %\n",
      "[405/408] cnt: 233, delta: -2, deltasum: -94, originalCompressedSizeSum: 1381358\n",
      "Reduction Percentage: -0.033129 %\n",
      "[406/408] cnt: 234, delta: 0, deltasum: -94, originalCompressedSizeSum: 1385799\n",
      "Reduction Percentage: 0.000000 %\n",
      "[407/408] cnt: 235, delta: 4, deltasum: -90, originalCompressedSizeSum: 1389168\n",
      "Reduction Percentage: 0.118730 %\n",
      "[408/408] cnt: 235, delta: -2, deltasum: -92, originalCompressedSizeSum: 1389559\n",
      "Reduction Percentage: -0.511509 %\n",
      "Final Reduction Percentage: -0.006621 %\n"
     ]
    }
   ],
   "source": [
    "!$SPAN_BATCH_TESTER format --permutation 3401256 --in-span-batch=$DB_PREFIX/span_batch_cache_v2 --out=$DB_PREFIX/format_result --chain-id=$L2_CHAIN_ID | tail -10"
   ]
  },
  {
   "cell_type": "code",
   "execution_count": 28,
   "metadata": {},
   "outputs": [
    {
     "name": "stdout",
     "output_type": "stream",
     "text": [
      "Reduction Percentage: -0.044415 %\n",
      "[405/408] cnt: 199, delta: -2, deltasum: -345, originalCompressedSizeSum: 1381358\n",
      "Reduction Percentage: -0.033129 %\n",
      "[406/408] cnt: 199, delta: -6, deltasum: -351, originalCompressedSizeSum: 1385799\n",
      "Reduction Percentage: -0.135105 %\n",
      "[407/408] cnt: 200, delta: 1, deltasum: -350, originalCompressedSizeSum: 1389168\n",
      "Reduction Percentage: 0.029682 %\n",
      "[408/408] cnt: 200, delta: -2, deltasum: -352, originalCompressedSizeSum: 1389559\n",
      "Reduction Percentage: -0.511509 %\n",
      "Final Reduction Percentage: -0.025332 %\n"
     ]
    }
   ],
   "source": [
    "!$SPAN_BATCH_TESTER format --permutation 6051234 --in-span-batch=$DB_PREFIX/span_batch_cache_v2 --out=$DB_PREFIX/format_result --chain-id=$L2_CHAIN_ID | tail -10"
   ]
  },
  {
   "cell_type": "code",
   "execution_count": 29,
   "metadata": {},
   "outputs": [
    {
     "name": "stdout",
     "output_type": "stream",
     "text": [
      "Reduction Percentage: 0.000000 %\n",
      "[405/408] cnt: 384, delta: 1, deltasum: 284, originalCompressedSizeSum: 1381358\n",
      "Reduction Percentage: 0.016565 %\n",
      "[406/408] cnt: 385, delta: 1, deltasum: 285, originalCompressedSizeSum: 1385799\n",
      "Reduction Percentage: 0.022517 %\n",
      "[407/408] cnt: 386, delta: 5, deltasum: 290, originalCompressedSizeSum: 1389168\n",
      "Reduction Percentage: 0.148412 %\n",
      "[408/408] cnt: 387, delta: 0, deltasum: 290, originalCompressedSizeSum: 1389559\n",
      "Reduction Percentage: 0.000000 %\n",
      "Final Reduction Percentage: 0.020870 %\n"
     ]
    }
   ],
   "source": [
    "!$SPAN_BATCH_TESTER format --permutation 0132456 --in-span-batch=$DB_PREFIX/span_batch_cache_v2 --out=$DB_PREFIX/format_result --chain-id=$L2_CHAIN_ID | tail -10"
   ]
  },
  {
   "cell_type": "code",
   "execution_count": 30,
   "metadata": {},
   "outputs": [
    {
     "name": "stdout",
     "output_type": "stream",
     "text": [
      "Reduction Percentage: 0.044415 %\n",
      "[405/408] cnt: 379, delta: 2, deltasum: 557, originalCompressedSizeSum: 1381358\n",
      "Reduction Percentage: 0.033129 %\n",
      "[406/408] cnt: 380, delta: 0, deltasum: 557, originalCompressedSizeSum: 1385799\n",
      "Reduction Percentage: 0.000000 %\n",
      "[407/408] cnt: 381, delta: 6, deltasum: 563, originalCompressedSizeSum: 1389168\n",
      "Reduction Percentage: 0.178094 %\n",
      "[408/408] cnt: 381, delta: -1, deltasum: 562, originalCompressedSizeSum: 1389559\n",
      "Reduction Percentage: -0.255754 %\n",
      "Final Reduction Percentage: 0.040444 %\n"
     ]
    }
   ],
   "source": [
    "!$SPAN_BATCH_TESTER format --permutation 0352614 --in-span-batch=$DB_PREFIX/span_batch_cache_v2 --out=$DB_PREFIX/format_result --chain-id=$L2_CHAIN_ID | tail -10"
   ]
  }
 ],
 "metadata": {
  "kernelspec": {
   "display_name": "Python 3",
   "language": "python",
   "name": "python3"
  },
  "language_info": {
   "codemirror_mode": {
    "name": "ipython",
    "version": 3
   },
   "file_extension": ".py",
   "mimetype": "text/x-python",
   "name": "python",
   "nbconvert_exporter": "python",
   "pygments_lexer": "ipython3",
   "version": "3.10.12"
  },
  "orig_nbformat": 4
 },
 "nbformat": 4,
 "nbformat_minor": 2
}

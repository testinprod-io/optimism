{
 "cells": [
  {
   "cell_type": "markdown",
   "metadata": {},
   "source": [
    "# Span Batch Analysis - Data Preparation"
   ]
  },
  {
   "cell_type": "markdown",
   "metadata": {},
   "source": [
    "## Initialization"
   ]
  },
  {
   "cell_type": "markdown",
   "metadata": {},
   "source": [
    "Before start, Fill in [secret.yml](span-batch-analysis/secret.yaml). Refer to [secret_example.yml](span-batch-analysis/secret_example.yaml). This is for specifying RPC endpoints.\n",
    "\n",
    "Also check config located at [config](span-batch-analysis/config/)."
   ]
  },
  {
   "cell_type": "code",
   "execution_count": 1,
   "metadata": {},
   "outputs": [],
   "source": [
    "import os"
   ]
  },
  {
   "cell_type": "markdown",
   "metadata": {},
   "source": [
    "Build binaries."
   ]
  },
  {
   "cell_type": "code",
   "execution_count": 2,
   "metadata": {},
   "outputs": [],
   "source": [
    "%%bash\n",
    "cd cmd/batch_decoder && go build . && cd ../../\n",
    "cd cmd/span_batch_tester && go build . && cd ../../"
   ]
  },
  {
   "cell_type": "code",
   "execution_count": 3,
   "metadata": {},
   "outputs": [],
   "source": [
    "%%capture\n",
    "%env BATCH_DECODER=cmd/batch_decoder/batch_decoder\n",
    "%env SPAN_BATCH_TESTER=cmd/span_batch_tester/span_batch_tester"
   ]
  },
  {
   "cell_type": "markdown",
   "metadata": {},
   "source": [
    "Clone superchain config."
   ]
  },
  {
   "cell_type": "code",
   "execution_count": 4,
   "metadata": {},
   "outputs": [
    {
     "name": "stderr",
     "output_type": "stream",
     "text": [
      "fatal: destination path 'superchain-registry' already exists and is not an empty directory.\n",
      "HEAD is now at 5d3ca19 superchain/extra: include minified genesis state data (#2)\n"
     ]
    }
   ],
   "source": [
    "%%bash\n",
    "git clone https://github.com/ethereum-optimism/superchain-registry\n",
    "cd superchain-registry && git checkout 5d3ca1966435827ac8c4216bddcb541ec64c1d6c && cd --"
   ]
  },
  {
   "cell_type": "markdown",
   "metadata": {},
   "source": [
    "Select your chain."
   ]
  },
  {
   "cell_type": "code",
   "execution_count": 5,
   "metadata": {},
   "outputs": [],
   "source": [
    "%%capture\n",
    "%env L1_CHAIN_NAME=mainnet\n",
    "%env L2_CHAIN_NAME=zora\n",
    "\n",
    "# available networks\n",
    "#      L1 - L2 list\n",
    "# mainnet - base, op, pgn, zora\n",
    "# goerli  - base, op, zora\n",
    "# sepolia - op, pgn"
   ]
  },
  {
   "cell_type": "code",
   "execution_count": 6,
   "metadata": {},
   "outputs": [],
   "source": [
    "l1_chain_name = os.environ[\"L1_CHAIN_NAME\"]\n",
    "l2_chain_name = os.environ[\"L2_CHAIN_NAME\"]\n",
    "\n",
    "start_number = !yq eval \".start_l1_number\" \"span-batch-analysis/config/{l1_chain_name}/{l2_chain_name}.yaml\"\n",
    "start_number_value = int(start_number[0])\n",
    "end_number = !yq eval \".end_l1_number\" \"span-batch-analysis/config/{l1_chain_name}/{l2_chain_name}.yaml\"\n",
    "end_number_value = int(end_number[0])\n",
    "batch_tx_sender = !yq eval \".batch_tx_sender\" \"span-batch-analysis/config/{l1_chain_name}/{l2_chain_name}.yaml\"\n",
    "batch_tx_sender_value = batch_tx_sender[0]\n",
    "l2_genesis_timestamp = !yq eval \".genesis.l2_time\" \"superchain-registry/superchain/configs/{l1_chain_name}/{l2_chain_name}.yaml\"\n",
    "l2_genesis_timestamp_value = int(l2_genesis_timestamp[0])\n",
    "l2_chain_id = !yq eval \".chain_id\" \"superchain-registry/superchain/configs/{l1_chain_name}/{l2_chain_name}.yaml\"\n",
    "l2_chain_id_value = int(l2_chain_id[0])\n",
    "inbox_addr = !yq eval \".batch_inbox_addr\" \"superchain-registry/superchain/configs/{l1_chain_name}/{l2_chain_name}.yaml\"\n",
    "inbox_addr_value = inbox_addr[0]\n",
    "\n",
    "acc_start_number = !yq eval \".acc_l2_start_number\" \"span-batch-analysis/config/{l1_chain_name}/{l2_chain_name}.yaml\"\n",
    "acc_start_number_value = int(acc_start_number[0])\n",
    "acc_end_number = !yq eval \".acc_l2_end_number\" \"span-batch-analysis/config/{l1_chain_name}/{l2_chain_name}.yaml\"\n",
    "acc_end_number_value = int(acc_end_number[0])"
   ]
  },
  {
   "cell_type": "markdown",
   "metadata": {},
   "source": [
    "Read analyis config."
   ]
  },
  {
   "cell_type": "code",
   "execution_count": 7,
   "metadata": {},
   "outputs": [
    {
     "name": "stdout",
     "output_type": "stream",
     "text": [
      "env: L1_START=18000000\n",
      "env: L1_END=18020000\n",
      "env: BATCH_TX_SENDER=0x625726c858dBF78c0125436C943Bf4b4bE9d9033\n",
      "env: L2_GENESIS_TIMESTAMP=1686693839\n",
      "env: L2_CHAIN_ID=7777777\n",
      "env: INBOX=0x6F54Ca6F6EdE96662024Ffd61BFd18f3f4e34DFf\n",
      "env: ACC_L2_START=3348000\n",
      "env: ACC_L2_END=3349000\n"
     ]
    }
   ],
   "source": [
    "%env L1_START=$start_number_value\n",
    "%env L1_END=$end_number_value\n",
    "%env BATCH_TX_SENDER=$batch_tx_sender_value\n",
    "%env L2_GENESIS_TIMESTAMP=$l2_genesis_timestamp_value\n",
    "%env L2_CHAIN_ID=$l2_chain_id_value\n",
    "%env INBOX=$inbox_addr_value\n",
    "\n",
    "%env ACC_L2_START=$acc_start_number_value\n",
    "%env ACC_L2_END=$acc_end_number_value\n"
   ]
  },
  {
   "cell_type": "markdown",
   "metadata": {},
   "source": [
    "Get L1 RPC from secret."
   ]
  },
  {
   "cell_type": "code",
   "execution_count": 8,
   "metadata": {},
   "outputs": [],
   "source": [
    "key_name = f\"L1_{l1_chain_name}_RPC\".upper()\n",
    "L1_RPC = !yq eval \".{key_name}\" span-batch-analysis/secret.yaml\n",
    "L1_RPC_ENDPOINT = L1_RPC[0]\n",
    "\n",
    "key_name = f\"L2_{l2_chain_name}_{l1_chain_name}_RPC\".upper()\n",
    "L2_RPC = !yq eval \".{key_name}\" span-batch-analysis/secret.yaml\n",
    "L2_RPC_ENDPOINT = L2_RPC[0]"
   ]
  },
  {
   "cell_type": "code",
   "execution_count": 9,
   "metadata": {},
   "outputs": [],
   "source": [
    "%%capture\n",
    "%env L1_RPC=$L1_RPC_ENDPOINT\n",
    "%env L2_RPC=$L2_RPC_ENDPOINT"
   ]
  },
  {
   "cell_type": "markdown",
   "metadata": {},
   "source": [
    "## Data Collection"
   ]
  },
  {
   "cell_type": "markdown",
   "metadata": {},
   "source": [
    "All data will be stored at `./artifacts/{L1_CHAIN_NAME}/{L2_CHAIN_NAME}`"
   ]
  },
  {
   "cell_type": "code",
   "execution_count": 10,
   "metadata": {},
   "outputs": [
    {
     "name": "stdout",
     "output_type": "stream",
     "text": [
      "env: DB_PREFIX=./artifacts/mainnet/zora\n"
     ]
    }
   ],
   "source": [
    "l1_chain_name = os.environ[\"L1_CHAIN_NAME\"]\n",
    "l2_chain_name = os.environ[\"L2_CHAIN_NAME\"]\n",
    "\n",
    "%env DB_PREFIX=./artifacts/$l1_chain_name/$l2_chain_name"
   ]
  },
  {
   "cell_type": "markdown",
   "metadata": {},
   "source": [
    "batch decoder `fetch`: Read channel frames from L1 by reading batch transactions."
   ]
  },
  {
   "cell_type": "code",
   "execution_count": 11,
   "metadata": {},
   "outputs": [
    {
     "name": "stdout",
     "output_type": "stream",
     "text": [
      "Fetched block:  18019995\n",
      "Fetched block:  18019999\n",
      "Fetched block:  18019998\n",
      "Fetched block:  18019988\n",
      "Fetched block:  18019994\n",
      "Fetched block:  18019997\n",
      "Fetched block:  18019993\n",
      "Fetched batches in range [18000000,18020000). Found 408 valid & 0 invalid batches\n",
      "Fetch Config: Chain ID: 1. Inbox Address: 0x6F54Ca6F6EdE96662024Ffd61BFd18f3f4e34DFf. Valid Senders: map[0x625726c858dBF78c0125436C943Bf4b4bE9d9033:{}].\n",
      "Wrote transactions with batches to ./artifacts/mainnet/zora/transactions_cache\n"
     ]
    }
   ],
   "source": [
    "!$BATCH_DECODER fetch --l1=$L1_RPC --start=$L1_START --end=$L1_END --inbox=$INBOX --out=$DB_PREFIX/transactions_cache --sender=$BATCH_TX_SENDER --concurrent-requests=25 | tail -10"
   ]
  },
  {
   "cell_type": "markdown",
   "metadata": {},
   "source": [
    "batch decoder `reassemble`: Reassemble channel frames to channels. "
   ]
  },
  {
   "cell_type": "code",
   "execution_count": 12,
   "metadata": {},
   "outputs": [],
   "source": [
    "!$BATCH_DECODER reassemble --inbox=$INBOX --in=$DB_PREFIX/transactions_cache --out=$DB_PREFIX/channel_cache | tail -10"
   ]
  },
  {
   "cell_type": "markdown",
   "metadata": {},
   "source": [
    "span batch tester `convert`: Convert channels with singular batches to span batches. Try multiple tx encoding types."
   ]
  },
  {
   "cell_type": "code",
   "execution_count": 13,
   "metadata": {},
   "outputs": [
    {
     "name": "stdout",
     "output_type": "stream",
     "text": [
      "[399/408] Channel ID: f83fc6b32c38bcbdd3ae9c6f063b8801, L2StartNum: 3294052, L2EndNum: 3294351, L2BlockCnt, 300\n",
      "[400/408] Channel ID: f869d64673aa2f4e04aef4edae39656c, L2StartNum: 3215067, L2EndNum: 3215361, L2BlockCnt, 295\n",
      "[401/408] Channel ID: f8e958456d48e3f6a7419c9586ecdf23, L2StartNum: 3247154, L2EndNum: 3247453, L2BlockCnt, 300\n",
      "[402/408] Channel ID: f9e7149e3f12f9b22f13d5be43afaecc, L2StartNum: 3245084, L2EndNum: 3245378, L2BlockCnt, 295\n",
      "[403/408] Channel ID: fa9a9b2c115638768e19c086c1f19835, L2StartNum: 3187852, L2EndNum: 3188143, L2BlockCnt, 292\n",
      "[404/408] Channel ID: fb4bf2a168cb421815dbe98e5f315acf, L2StartNum: 3235844, L2EndNum: 3236138, L2BlockCnt, 295\n",
      "[405/408] Channel ID: fdd5ea1e64138e9746c6ee85def32272, L2StartNum: 3228122, L2EndNum: 3228416, L2BlockCnt, 295\n",
      "[406/408] Channel ID: fe8aebaa27f7b356db104b6d8fcf710e, L2StartNum: 3229917, L2EndNum: 3230208, L2BlockCnt, 292\n",
      "[407/408] Channel ID: fee1bb6ecbcc15d19026d6c0c1d02a8f, L2StartNum: 3292539, L2EndNum: 3292838, L2BlockCnt, 300\n",
      "[408/408] Channel ID: ff16122882d3cc26a3111f32353f620f, L2StartNum: 3198477, L2EndNum: 3198771, L2BlockCnt, 295\n"
     ]
    }
   ],
   "source": [
    "!TX_ENCODE_TYPE=0  && $SPAN_BATCH_TESTER convert --in=$DB_PREFIX/channel_cache --out=$DB_PREFIX/span_batch_cache_v$TX_ENCODE_TYPE --l2=$L2_RPC --genesis-timestamp=$L2_GENESIS_TIMESTAMP --chain-id=$L2_CHAIN_ID --tx-type=$TX_ENCODE_TYPE | tail -10"
   ]
  },
  {
   "cell_type": "code",
   "execution_count": 14,
   "metadata": {},
   "outputs": [
    {
     "name": "stdout",
     "output_type": "stream",
     "text": [
      "[399/408] Channel ID: f83fc6b32c38bcbdd3ae9c6f063b8801, L2StartNum: 3294052, L2EndNum: 3294351, L2BlockCnt, 300\n",
      "[400/408] Channel ID: f869d64673aa2f4e04aef4edae39656c, L2StartNum: 3215067, L2EndNum: 3215361, L2BlockCnt, 295\n",
      "[401/408] Channel ID: f8e958456d48e3f6a7419c9586ecdf23, L2StartNum: 3247154, L2EndNum: 3247453, L2BlockCnt, 300\n",
      "[402/408] Channel ID: f9e7149e3f12f9b22f13d5be43afaecc, L2StartNum: 3245084, L2EndNum: 3245378, L2BlockCnt, 295\n",
      "[403/408] Channel ID: fa9a9b2c115638768e19c086c1f19835, L2StartNum: 3187852, L2EndNum: 3188143, L2BlockCnt, 292\n",
      "[404/408] Channel ID: fb4bf2a168cb421815dbe98e5f315acf, L2StartNum: 3235844, L2EndNum: 3236138, L2BlockCnt, 295\n",
      "[405/408] Channel ID: fdd5ea1e64138e9746c6ee85def32272, L2StartNum: 3228122, L2EndNum: 3228416, L2BlockCnt, 295\n",
      "[406/408] Channel ID: fe8aebaa27f7b356db104b6d8fcf710e, L2StartNum: 3229917, L2EndNum: 3230208, L2BlockCnt, 292\n",
      "[407/408] Channel ID: fee1bb6ecbcc15d19026d6c0c1d02a8f, L2StartNum: 3292539, L2EndNum: 3292838, L2BlockCnt, 300\n",
      "[408/408] Channel ID: ff16122882d3cc26a3111f32353f620f, L2StartNum: 3198477, L2EndNum: 3198771, L2BlockCnt, 295\n"
     ]
    }
   ],
   "source": [
    "!TX_ENCODE_TYPE=1  && $SPAN_BATCH_TESTER convert --in=$DB_PREFIX/channel_cache --out=$DB_PREFIX/span_batch_cache_v$TX_ENCODE_TYPE --l2=$L2_RPC --genesis-timestamp=$L2_GENESIS_TIMESTAMP --chain-id=$L2_CHAIN_ID --tx-type=$TX_ENCODE_TYPE | tail -10"
   ]
  },
  {
   "cell_type": "code",
   "execution_count": 15,
   "metadata": {},
   "outputs": [
    {
     "name": "stdout",
     "output_type": "stream",
     "text": [
      "[399/408] Channel ID: f83fc6b32c38bcbdd3ae9c6f063b8801, L2StartNum: 3294052, L2EndNum: 3294351, L2BlockCnt, 300\n",
      "[400/408] Channel ID: f869d64673aa2f4e04aef4edae39656c, L2StartNum: 3215067, L2EndNum: 3215361, L2BlockCnt, 295\n",
      "[401/408] Channel ID: f8e958456d48e3f6a7419c9586ecdf23, L2StartNum: 3247154, L2EndNum: 3247453, L2BlockCnt, 300\n",
      "[402/408] Channel ID: f9e7149e3f12f9b22f13d5be43afaecc, L2StartNum: 3245084, L2EndNum: 3245378, L2BlockCnt, 295\n",
      "[403/408] Channel ID: fa9a9b2c115638768e19c086c1f19835, L2StartNum: 3187852, L2EndNum: 3188143, L2BlockCnt, 292\n",
      "[404/408] Channel ID: fb4bf2a168cb421815dbe98e5f315acf, L2StartNum: 3235844, L2EndNum: 3236138, L2BlockCnt, 295\n",
      "[405/408] Channel ID: fdd5ea1e64138e9746c6ee85def32272, L2StartNum: 3228122, L2EndNum: 3228416, L2BlockCnt, 295\n",
      "[406/408] Channel ID: fe8aebaa27f7b356db104b6d8fcf710e, L2StartNum: 3229917, L2EndNum: 3230208, L2BlockCnt, 292\n",
      "[407/408] Channel ID: fee1bb6ecbcc15d19026d6c0c1d02a8f, L2StartNum: 3292539, L2EndNum: 3292838, L2BlockCnt, 300\n",
      "[408/408] Channel ID: ff16122882d3cc26a3111f32353f620f, L2StartNum: 3198477, L2EndNum: 3198771, L2BlockCnt, 295\n"
     ]
    }
   ],
   "source": [
    "!TX_ENCODE_TYPE=2  && $SPAN_BATCH_TESTER convert --in=$DB_PREFIX/channel_cache --out=$DB_PREFIX/span_batch_cache_v$TX_ENCODE_TYPE --l2=$L2_RPC --genesis-timestamp=$L2_GENESIS_TIMESTAMP --chain-id=$L2_CHAIN_ID --tx-type=$TX_ENCODE_TYPE | tail -10"
   ]
  },
  {
   "cell_type": "markdown",
   "metadata": {},
   "source": [
    "span batch tester `analyze`: Analyze channels with singluar batches by comparing with corresponding span batches."
   ]
  },
  {
   "cell_type": "code",
   "execution_count": 16,
   "metadata": {},
   "outputs": [
    {
     "name": "stdout",
     "output_type": "stream",
     "text": [
      "[399/408] Channel ID: f83fc6b32c38bcbdd3ae9c6f063b8801, CompressedReductionPercent: 25.258686 %\n",
      "[400/408] Channel ID: f869d64673aa2f4e04aef4edae39656c, CompressedReductionPercent: 25.056463 %\n",
      "[401/408] Channel ID: f8e958456d48e3f6a7419c9586ecdf23, CompressedReductionPercent: 31.772283 %\n",
      "[402/408] Channel ID: f9e7149e3f12f9b22f13d5be43afaecc, CompressedReductionPercent: 36.931331 %\n",
      "[403/408] Channel ID: fa9a9b2c115638768e19c086c1f19835, CompressedReductionPercent: 24.811493 %\n",
      "[404/408] Channel ID: fb4bf2a168cb421815dbe98e5f315acf, CompressedReductionPercent: 25.873518 %\n",
      "[405/408] Channel ID: fdd5ea1e64138e9746c6ee85def32272, CompressedReductionPercent: 25.262607 %\n",
      "[406/408] Channel ID: fe8aebaa27f7b356db104b6d8fcf710e, CompressedReductionPercent: 24.228526 %\n",
      "[407/408] Channel ID: fee1bb6ecbcc15d19026d6c0c1d02a8f, CompressedReductionPercent: 22.106232 %\n",
      "[408/408] Channel ID: ff16122882d3cc26a3111f32353f620f, CompressedReductionPercent: 28.473456 %\n"
     ]
    }
   ],
   "source": [
    "!TX_ENCODE_TYPE=0 && $SPAN_BATCH_TESTER analyze --in-channel=$DB_PREFIX/channel_cache --in-span-batch=$DB_PREFIX/span_batch_cache_v$TX_ENCODE_TYPE --out=$DB_PREFIX/result_v$TX_ENCODE_TYPE --chain-id=$L2_CHAIN_ID --tx-type=$TX_ENCODE_TYPE | tail -10"
   ]
  },
  {
   "cell_type": "code",
   "execution_count": 17,
   "metadata": {},
   "outputs": [
    {
     "name": "stdout",
     "output_type": "stream",
     "text": [
      "[399/408] Channel ID: f83fc6b32c38bcbdd3ae9c6f063b8801, CompressedReductionPercent: 22.636929 %\n",
      "[400/408] Channel ID: f869d64673aa2f4e04aef4edae39656c, CompressedReductionPercent: 21.925134 %\n",
      "[401/408] Channel ID: f8e958456d48e3f6a7419c9586ecdf23, CompressedReductionPercent: 29.526119 %\n",
      "[402/408] Channel ID: f9e7149e3f12f9b22f13d5be43afaecc, CompressedReductionPercent: 34.733825 %\n",
      "[403/408] Channel ID: fa9a9b2c115638768e19c086c1f19835, CompressedReductionPercent: 22.145029 %\n",
      "[404/408] Channel ID: fb4bf2a168cb421815dbe98e5f315acf, CompressedReductionPercent: 22.568315 %\n",
      "[405/408] Channel ID: fdd5ea1e64138e9746c6ee85def32272, CompressedReductionPercent: 22.191346 %\n",
      "[406/408] Channel ID: fe8aebaa27f7b356db104b6d8fcf710e, CompressedReductionPercent: 20.785123 %\n",
      "[407/408] Channel ID: fee1bb6ecbcc15d19026d6c0c1d02a8f, CompressedReductionPercent: 19.961872 %\n",
      "[408/408] Channel ID: ff16122882d3cc26a3111f32353f620f, CompressedReductionPercent: 25.239594 %\n"
     ]
    }
   ],
   "source": [
    "!TX_ENCODE_TYPE=1 && $SPAN_BATCH_TESTER analyze --in-channel=$DB_PREFIX/channel_cache --in-span-batch=$DB_PREFIX/span_batch_cache_v$TX_ENCODE_TYPE --out=$DB_PREFIX/result_v$TX_ENCODE_TYPE --chain-id=$L2_CHAIN_ID --tx-type=$TX_ENCODE_TYPE | tail -10"
   ]
  },
  {
   "cell_type": "code",
   "execution_count": 18,
   "metadata": {},
   "outputs": [
    {
     "name": "stdout",
     "output_type": "stream",
     "text": [
      "[399/408] Channel ID: f83fc6b32c38bcbdd3ae9c6f063b8801, CompressedReductionPercent: 26.734942 %\n",
      "[400/408] Channel ID: f869d64673aa2f4e04aef4edae39656c, CompressedReductionPercent: 26.742339 %\n",
      "[401/408] Channel ID: f8e958456d48e3f6a7419c9586ecdf23, CompressedReductionPercent: 32.308977 %\n",
      "[402/408] Channel ID: f9e7149e3f12f9b22f13d5be43afaecc, CompressedReductionPercent: 38.055807 %\n",
      "[403/408] Channel ID: fa9a9b2c115638768e19c086c1f19835, CompressedReductionPercent: 27.015810 %\n",
      "[404/408] Channel ID: fb4bf2a168cb421815dbe98e5f315acf, CompressedReductionPercent: 27.777195 %\n",
      "[405/408] Channel ID: fdd5ea1e64138e9746c6ee85def32272, CompressedReductionPercent: 27.005558 %\n",
      "[406/408] Channel ID: fe8aebaa27f7b356db104b6d8fcf710e, CompressedReductionPercent: 25.966162 %\n",
      "[407/408] Channel ID: fee1bb6ecbcc15d19026d6c0c1d02a8f, CompressedReductionPercent: 23.956087 %\n",
      "[408/408] Channel ID: ff16122882d3cc26a3111f32353f620f, CompressedReductionPercent: 30.094783 %\n"
     ]
    }
   ],
   "source": [
    "!TX_ENCODE_TYPE=2 && $SPAN_BATCH_TESTER analyze --in-channel=$DB_PREFIX/channel_cache --in-span-batch=$DB_PREFIX/span_batch_cache_v$TX_ENCODE_TYPE --out=$DB_PREFIX/result_v$TX_ENCODE_TYPE --chain-id=$L2_CHAIN_ID --tx-type=$TX_ENCODE_TYPE | tail -10"
   ]
  },
  {
   "cell_type": "markdown",
   "metadata": {},
   "source": [
    "span batch tester `fetch`: Fetch consecutive singular batches."
   ]
  },
  {
   "cell_type": "code",
   "execution_count": 19,
   "metadata": {},
   "outputs": [
    {
     "name": "stdout",
     "output_type": "stream",
     "text": [
      "Fetched L2 block:  3348994\n",
      "Fetched L2 block:  3348992\n",
      "Fetched L2 block:  3348993\n",
      "Fetched L2 block:  3348997\n",
      "Fetched L2 block:  3348989\n",
      "Fetched L2 block:  3348995\n",
      "Fetched L2 block:  3348999\n",
      "Fetched L2 block:  3348998\n",
      "Fetched v0 batches in range [3348000,3349000).\n",
      "Fetch Config: Chain ID: 7777777.\n"
     ]
    }
   ],
   "source": [
    "!$SPAN_BATCH_TESTER fetch --l2 $L2_RPC --start=$ACC_L2_START --end=$ACC_L2_END --concurrent-requests=100 --out=$DB_PREFIX/singular_batches_cache | tail -10"
   ]
  },
  {
   "cell_type": "markdown",
   "metadata": {},
   "source": [
    "span batch tester `merge`: Merge singular batches:\n",
    "\n",
    "This command will analyze `start - end` number of batches, Comparing uncompressed size of below two batches:\n",
    "- For `i` in range  `0` to `start - end - 1`\n",
    "  - singular batch from number `start` to `start + i`, inclusive.\n",
    "  - span batch from number `start` to `start + i`, inclusive.\n",
    "\n",
    "Upper command will make a result json file which has name of the form `{start_number}_{end_number}.json`."
   ]
  },
  {
   "cell_type": "code",
   "execution_count": 31,
   "metadata": {},
   "outputs": [
    {
     "name": "stdout",
     "output_type": "stream",
     "text": [
      "Merged v0 batches in range [3348000,3349000).\n"
     ]
    }
   ],
   "source": [
    "!$SPAN_BATCH_TESTER merge --start=$ACC_L2_START --end=$ACC_L2_END --l2 $L2_RPC --genesis-timestamp=$L2_GENESIS_TIMESTAMP --in=$DB_PREFIX/singular_batches_cache --out=$DB_PREFIX/merge_result | tail -10"
   ]
  },
  {
   "cell_type": "markdown",
   "metadata": {},
   "source": [
    "span batch tester `format`: Compare different tx encodings for span batch.\n"
   ]
  },
  {
   "cell_type": "code",
   "execution_count": 21,
   "metadata": {},
   "outputs": [
    {
     "name": "stdout",
     "output_type": "stream",
     "text": [
      "Reduction Percentage: -0.307207 %\n",
      "[405/408] cnt: 163, delta: -274, deltasum: -17366, originalCompressedSizeSum: 19396160\n",
      "Reduction Percentage: -0.548208 %\n",
      "[406/408] cnt: 164, delta: 23, deltasum: -17343, originalCompressedSizeSum: 19449603\n",
      "Reduction Percentage: 0.043037 %\n",
      "[407/408] cnt: 165, delta: 25, deltasum: -17318, originalCompressedSizeSum: 19507461\n",
      "Reduction Percentage: 0.043209 %\n",
      "[408/408] cnt: 165, delta: -286, deltasum: -17604, originalCompressedSizeSum: 19547084\n",
      "Reduction Percentage: -0.721803 %\n",
      "Final Reduction Percentage: -0.090059 %\n"
     ]
    }
   ],
   "source": [
    "!$SPAN_BATCH_TESTER format --permutation 0123465 --in-span-batch=$DB_PREFIX/span_batch_cache_v2 --out=$DB_PREFIX/format_result --chain-id=$L2_CHAIN_ID | tail -10"
   ]
  },
  {
   "cell_type": "code",
   "execution_count": 22,
   "metadata": {},
   "outputs": [
    {
     "name": "stdout",
     "output_type": "stream",
     "text": [
      "Reduction Percentage: -0.311358 %\n",
      "[405/408] cnt: 114, delta: -35, deltasum: -28940, originalCompressedSizeSum: 19396160\n",
      "Reduction Percentage: -0.070027 %\n",
      "[406/408] cnt: 114, delta: -24, deltasum: -28964, originalCompressedSizeSum: 19449603\n",
      "Reduction Percentage: -0.044908 %\n",
      "[407/408] cnt: 114, delta: -52, deltasum: -29016, originalCompressedSizeSum: 19507461\n",
      "Reduction Percentage: -0.089875 %\n",
      "[408/408] cnt: 114, delta: -272, deltasum: -29288, originalCompressedSizeSum: 19547084\n",
      "Reduction Percentage: -0.686470 %\n",
      "Final Reduction Percentage: -0.149833 %\n"
     ]
    }
   ],
   "source": [
    "!$SPAN_BATCH_TESTER format --permutation 0134625 --in-span-batch=$DB_PREFIX/span_batch_cache_v2 --out=$DB_PREFIX/format_result --chain-id=$L2_CHAIN_ID | tail -10"
   ]
  },
  {
   "cell_type": "code",
   "execution_count": 23,
   "metadata": {},
   "outputs": [
    {
     "name": "stdout",
     "output_type": "stream",
     "text": [
      "Reduction Percentage: -0.290601 %\n",
      "[405/408] cnt: 115, delta: -260, deltasum: -19426, originalCompressedSizeSum: 19396160\n",
      "Reduction Percentage: -0.520198 %\n",
      "[406/408] cnt: 116, delta: 9, deltasum: -19417, originalCompressedSizeSum: 19449603\n",
      "Reduction Percentage: 0.016840 %\n",
      "[407/408] cnt: 117, delta: 35, deltasum: -19382, originalCompressedSizeSum: 19507461\n",
      "Reduction Percentage: 0.060493 %\n",
      "[408/408] cnt: 117, delta: -281, deltasum: -19663, originalCompressedSizeSum: 19547084\n",
      "Reduction Percentage: -0.709184 %\n",
      "Final Reduction Percentage: -0.100593 %\n"
     ]
    }
   ],
   "source": [
    "!$SPAN_BATCH_TESTER format --permutation 3041265 --in-span-batch=$DB_PREFIX/span_batch_cache_v2 --out=$DB_PREFIX/format_result --chain-id=$L2_CHAIN_ID | tail -10"
   ]
  },
  {
   "cell_type": "code",
   "execution_count": 24,
   "metadata": {},
   "outputs": [
    {
     "name": "stdout",
     "output_type": "stream",
     "text": [
      "Reduction Percentage: -0.012454 %\n",
      "[405/408] cnt: 197, delta: -191, deltasum: -7234, originalCompressedSizeSum: 19396160\n",
      "Reduction Percentage: -0.382145 %\n",
      "[406/408] cnt: 198, delta: 15, deltasum: -7219, originalCompressedSizeSum: 19449603\n",
      "Reduction Percentage: 0.028067 %\n",
      "[407/408] cnt: 199, delta: 19, deltasum: -7200, originalCompressedSizeSum: 19507461\n",
      "Reduction Percentage: 0.032839 %\n",
      "[408/408] cnt: 199, delta: -130, deltasum: -7330, originalCompressedSizeSum: 19547084\n",
      "Reduction Percentage: -0.328092 %\n",
      "Final Reduction Percentage: -0.037499 %\n"
     ]
    }
   ],
   "source": [
    "!$SPAN_BATCH_TESTER format --permutation 0125634 --in-span-batch=$DB_PREFIX/span_batch_cache_v2 --out=$DB_PREFIX/format_result --chain-id=$L2_CHAIN_ID | tail -10"
   ]
  },
  {
   "cell_type": "code",
   "execution_count": 25,
   "metadata": {},
   "outputs": [
    {
     "name": "stdout",
     "output_type": "stream",
     "text": [
      "Reduction Percentage: -0.307207 %\n",
      "[405/408] cnt: 119, delta: -276, deltasum: -21340, originalCompressedSizeSum: 19396160\n",
      "Reduction Percentage: -0.552210 %\n",
      "[406/408] cnt: 120, delta: 0, deltasum: -21340, originalCompressedSizeSum: 19449603\n",
      "Reduction Percentage: 0.000000 %\n",
      "[407/408] cnt: 121, delta: 25, deltasum: -21315, originalCompressedSizeSum: 19507461\n",
      "Reduction Percentage: 0.043209 %\n",
      "[408/408] cnt: 121, delta: -294, deltasum: -21609, originalCompressedSizeSum: 19547084\n",
      "Reduction Percentage: -0.741993 %\n",
      "Final Reduction Percentage: -0.110548 %\n"
     ]
    }
   ],
   "source": [
    "!$SPAN_BATCH_TESTER format --permutation 0324165 --in-span-batch=$DB_PREFIX/span_batch_cache_v2 --out=$DB_PREFIX/format_result --chain-id=$L2_CHAIN_ID | tail -10"
   ]
  },
  {
   "cell_type": "code",
   "execution_count": 26,
   "metadata": {},
   "outputs": [
    {
     "name": "stdout",
     "output_type": "stream",
     "text": [
      "Reduction Percentage: 0.049817 %\n",
      "[405/408] cnt: 169, delta: 36, deltasum: -809, originalCompressedSizeSum: 19396160\n",
      "Reduction Percentage: 0.072027 %\n",
      "[406/408] cnt: 169, delta: -14, deltasum: -823, originalCompressedSizeSum: 19449603\n",
      "Reduction Percentage: -0.026196 %\n",
      "[407/408] cnt: 170, delta: 13, deltasum: -810, originalCompressedSizeSum: 19507461\n",
      "Reduction Percentage: 0.022469 %\n",
      "[408/408] cnt: 171, delta: 13, deltasum: -797, originalCompressedSizeSum: 19547084\n",
      "Reduction Percentage: 0.032809 %\n",
      "Final Reduction Percentage: -0.004077 %\n"
     ]
    }
   ],
   "source": [
    "!$SPAN_BATCH_TESTER format --permutation 3041256 --in-span-batch=$DB_PREFIX/span_batch_cache_v2 --out=$DB_PREFIX/format_result --chain-id=$L2_CHAIN_ID | tail -10"
   ]
  },
  {
   "cell_type": "code",
   "execution_count": 27,
   "metadata": {},
   "outputs": [
    {
     "name": "stdout",
     "output_type": "stream",
     "text": [
      "Reduction Percentage: 0.045666 %\n",
      "[405/408] cnt: 170, delta: 34, deltasum: -810, originalCompressedSizeSum: 19396160\n",
      "Reduction Percentage: 0.068026 %\n",
      "[406/408] cnt: 170, delta: -14, deltasum: -824, originalCompressedSizeSum: 19449603\n",
      "Reduction Percentage: -0.026196 %\n",
      "[407/408] cnt: 171, delta: 13, deltasum: -811, originalCompressedSizeSum: 19507461\n",
      "Reduction Percentage: 0.022469 %\n",
      "[408/408] cnt: 172, delta: 11, deltasum: -800, originalCompressedSizeSum: 19547084\n",
      "Reduction Percentage: 0.027762 %\n",
      "Final Reduction Percentage: -0.004093 %\n"
     ]
    }
   ],
   "source": [
    "!$SPAN_BATCH_TESTER format --permutation 3401256 --in-span-batch=$DB_PREFIX/span_batch_cache_v2 --out=$DB_PREFIX/format_result --chain-id=$L2_CHAIN_ID | tail -10"
   ]
  },
  {
   "cell_type": "code",
   "execution_count": 28,
   "metadata": {},
   "outputs": [
    {
     "name": "stdout",
     "output_type": "stream",
     "text": [
      "Reduction Percentage: -0.247011 %\n",
      "[405/408] cnt: 203, delta: 23, deltasum: 538, originalCompressedSizeSum: 19396160\n",
      "Reduction Percentage: 0.046017 %\n",
      "[406/408] cnt: 204, delta: 23, deltasum: 561, originalCompressedSizeSum: 19449603\n",
      "Reduction Percentage: 0.043037 %\n",
      "[407/408] cnt: 205, delta: 46, deltasum: 607, originalCompressedSizeSum: 19507461\n",
      "Reduction Percentage: 0.079505 %\n",
      "[408/408] cnt: 205, delta: -201, deltasum: 406, originalCompressedSizeSum: 19547084\n",
      "Reduction Percentage: -0.507281 %\n",
      "Final Reduction Percentage: 0.002077 %\n"
     ]
    }
   ],
   "source": [
    "!$SPAN_BATCH_TESTER format --permutation 6051234 --in-span-batch=$DB_PREFIX/span_batch_cache_v2 --out=$DB_PREFIX/format_result --chain-id=$L2_CHAIN_ID | tail -10"
   ]
  },
  {
   "cell_type": "code",
   "execution_count": 29,
   "metadata": {},
   "outputs": [
    {
     "name": "stdout",
     "output_type": "stream",
     "text": [
      "Reduction Percentage: 0.010379 %\n",
      "[405/408] cnt: 110, delta: 4, deltasum: -3016, originalCompressedSizeSum: 19396160\n",
      "Reduction Percentage: 0.008003 %\n",
      "[406/408] cnt: 110, delta: -24, deltasum: -3040, originalCompressedSizeSum: 19449603\n",
      "Reduction Percentage: -0.044908 %\n",
      "[407/408] cnt: 111, delta: 7, deltasum: -3033, originalCompressedSizeSum: 19507461\n",
      "Reduction Percentage: 0.012099 %\n",
      "[408/408] cnt: 112, delta: 4, deltasum: -3029, originalCompressedSizeSum: 19547084\n",
      "Reduction Percentage: 0.010095 %\n",
      "Final Reduction Percentage: -0.015496 %\n"
     ]
    }
   ],
   "source": [
    "!$SPAN_BATCH_TESTER format --permutation 0132456 --in-span-batch=$DB_PREFIX/span_batch_cache_v2 --out=$DB_PREFIX/format_result --chain-id=$L2_CHAIN_ID | tail -10"
   ]
  },
  {
   "cell_type": "code",
   "execution_count": 30,
   "metadata": {},
   "outputs": [
    {
     "name": "stdout",
     "output_type": "stream",
     "text": [
      "Reduction Percentage: -0.078877 %\n",
      "[405/408] cnt: 28, delta: -137, deltasum: -36505, originalCompressedSizeSum: 19396160\n",
      "Reduction Percentage: -0.274104 %\n",
      "[406/408] cnt: 28, delta: -99, deltasum: -36604, originalCompressedSizeSum: 19449603\n",
      "Reduction Percentage: -0.185244 %\n",
      "[407/408] cnt: 28, delta: -81, deltasum: -36685, originalCompressedSizeSum: 19507461\n",
      "Reduction Percentage: -0.139998 %\n",
      "[408/408] cnt: 28, delta: -173, deltasum: -36858, originalCompressedSizeSum: 19547084\n",
      "Reduction Percentage: -0.436615 %\n",
      "Final Reduction Percentage: -0.188560 %\n"
     ]
    }
   ],
   "source": [
    "!$SPAN_BATCH_TESTER format --permutation 0352614 --in-span-batch=$DB_PREFIX/span_batch_cache_v2 --out=$DB_PREFIX/format_result --chain-id=$L2_CHAIN_ID | tail -10"
   ]
  }
 ],
 "metadata": {
  "kernelspec": {
   "display_name": "Python 3",
   "language": "python",
   "name": "python3"
  },
  "language_info": {
   "codemirror_mode": {
    "name": "ipython",
    "version": 3
   },
   "file_extension": ".py",
   "mimetype": "text/x-python",
   "name": "python",
   "nbconvert_exporter": "python",
   "pygments_lexer": "ipython3",
   "version": "3.10.12"
  },
  "orig_nbformat": 4
 },
 "nbformat": 4,
 "nbformat_minor": 2
}

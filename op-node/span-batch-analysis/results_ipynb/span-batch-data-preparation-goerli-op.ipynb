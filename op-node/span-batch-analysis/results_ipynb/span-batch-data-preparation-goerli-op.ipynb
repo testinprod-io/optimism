{
 "cells": [
  {
   "cell_type": "markdown",
   "metadata": {},
   "source": [
    "# Span Batch Analysis - Data Preparation"
   ]
  },
  {
   "cell_type": "markdown",
   "metadata": {},
   "source": [
    "## Initialization"
   ]
  },
  {
   "cell_type": "markdown",
   "metadata": {},
   "source": [
    "Before start, Fill in [secret.yml](span-batch-analysis/secret.yaml). Refer to [secret_example.yml](span-batch-analysis/secret_example.yaml). This is for specifying RPC endpoints.\n",
    "\n",
    "Also check config located at [config](span-batch-analysis/config/)."
   ]
  },
  {
   "cell_type": "code",
   "execution_count": 13,
   "metadata": {},
   "outputs": [],
   "source": [
    "import os"
   ]
  },
  {
   "cell_type": "markdown",
   "metadata": {},
   "source": [
    "Build binaries."
   ]
  },
  {
   "cell_type": "code",
   "execution_count": 14,
   "metadata": {},
   "outputs": [],
   "source": [
    "%%bash\n",
    "cd cmd/batch_decoder && go build . && cd ../../\n",
    "cd cmd/span_batch_tester && go build . && cd ../../"
   ]
  },
  {
   "cell_type": "code",
   "execution_count": 15,
   "metadata": {},
   "outputs": [],
   "source": [
    "%%capture\n",
    "%env BATCH_DECODER=cmd/batch_decoder/batch_decoder\n",
    "%env SPAN_BATCH_TESTER=cmd/span_batch_tester/span_batch_tester"
   ]
  },
  {
   "cell_type": "markdown",
   "metadata": {},
   "source": [
    "Clone superchain config."
   ]
  },
  {
   "cell_type": "code",
   "execution_count": 16,
   "metadata": {},
   "outputs": [
    {
     "name": "stderr",
     "output_type": "stream",
     "text": [
      "fatal: destination path 'superchain-registry' already exists and is not an empty directory.\n",
      "HEAD is now at 5d3ca19 superchain/extra: include minified genesis state data (#2)\n"
     ]
    }
   ],
   "source": [
    "%%bash\n",
    "git clone https://github.com/ethereum-optimism/superchain-registry\n",
    "cd superchain-registry && git checkout 5d3ca1966435827ac8c4216bddcb541ec64c1d6c && cd --"
   ]
  },
  {
   "cell_type": "markdown",
   "metadata": {},
   "source": [
    "Select your chain."
   ]
  },
  {
   "cell_type": "code",
   "execution_count": 17,
   "metadata": {},
   "outputs": [],
   "source": [
    "%%capture\n",
    "%env L1_CHAIN_NAME=goerli\n",
    "%env L2_CHAIN_NAME=op\n",
    "\n",
    "# available networks\n",
    "#      L1 - L2 list\n",
    "# mainnet - base, op, pgn, zora\n",
    "# goerli  - base, op, zora\n",
    "# sepolia - op, pgn"
   ]
  },
  {
   "cell_type": "code",
   "execution_count": 18,
   "metadata": {},
   "outputs": [],
   "source": [
    "l1_chain_name = os.environ[\"L1_CHAIN_NAME\"]\n",
    "l2_chain_name = os.environ[\"L2_CHAIN_NAME\"]\n",
    "\n",
    "start_number = !yq eval \".start_l1_number\" \"span-batch-analysis/config/{l1_chain_name}/{l2_chain_name}.yaml\"\n",
    "start_number_value = int(start_number[0])\n",
    "end_number = !yq eval \".end_l1_number\" \"span-batch-analysis/config/{l1_chain_name}/{l2_chain_name}.yaml\"\n",
    "end_number_value = int(end_number[0])\n",
    "batch_tx_sender = !yq eval \".batch_tx_sender\" \"span-batch-analysis/config/{l1_chain_name}/{l2_chain_name}.yaml\"\n",
    "batch_tx_sender_value = batch_tx_sender[0]\n",
    "l2_genesis_timestamp = !yq eval \".genesis.l2_time\" \"superchain-registry/superchain/configs/{l1_chain_name}/{l2_chain_name}.yaml\"\n",
    "l2_genesis_timestamp_value = int(l2_genesis_timestamp[0])\n",
    "l2_chain_id = !yq eval \".chain_id\" \"superchain-registry/superchain/configs/{l1_chain_name}/{l2_chain_name}.yaml\"\n",
    "l2_chain_id_value = int(l2_chain_id[0])\n",
    "inbox_addr = !yq eval \".batch_inbox_addr\" \"superchain-registry/superchain/configs/{l1_chain_name}/{l2_chain_name}.yaml\"\n",
    "inbox_addr_value = inbox_addr[0]\n",
    "\n",
    "acc_start_number = !yq eval \".acc_l2_start_number\" \"span-batch-analysis/config/{l1_chain_name}/{l2_chain_name}.yaml\"\n",
    "acc_start_number_value = int(acc_start_number[0])\n",
    "acc_end_number = !yq eval \".acc_l2_end_number\" \"span-batch-analysis/config/{l1_chain_name}/{l2_chain_name}.yaml\"\n",
    "acc_end_number_value = int(acc_end_number[0])"
   ]
  },
  {
   "cell_type": "markdown",
   "metadata": {},
   "source": [
    "Read analyis config."
   ]
  },
  {
   "cell_type": "code",
   "execution_count": 19,
   "metadata": {},
   "outputs": [
    {
     "name": "stdout",
     "output_type": "stream",
     "text": [
      "env: L1_START=9500000\n",
      "env: L1_END=9520000\n",
      "env: BATCH_TX_SENDER=0x7431310e026B69BFC676C0013E12A1A11411EEc9\n",
      "env: L2_GENESIS_TIMESTAMP=1673550516\n",
      "env: L2_CHAIN_ID=420\n",
      "env: INBOX=0xff00000000000000000000000000000000000420\n",
      "env: ACC_L2_START=13630000\n",
      "env: ACC_L2_END=13631000\n"
     ]
    }
   ],
   "source": [
    "%env L1_START=$start_number_value\n",
    "%env L1_END=$end_number_value\n",
    "%env BATCH_TX_SENDER=$batch_tx_sender_value\n",
    "%env L2_GENESIS_TIMESTAMP=$l2_genesis_timestamp_value\n",
    "%env L2_CHAIN_ID=$l2_chain_id_value\n",
    "%env INBOX=$inbox_addr_value\n",
    "\n",
    "%env ACC_L2_START=$acc_start_number_value\n",
    "%env ACC_L2_END=$acc_end_number_value\n"
   ]
  },
  {
   "cell_type": "markdown",
   "metadata": {},
   "source": [
    "Get L1 RPC from secret."
   ]
  },
  {
   "cell_type": "code",
   "execution_count": 20,
   "metadata": {},
   "outputs": [],
   "source": [
    "key_name = f\"L1_{l1_chain_name}_RPC\".upper()\n",
    "L1_RPC = !yq eval \".{key_name}\" span-batch-analysis/secret.yaml\n",
    "L1_RPC_ENDPOINT = L1_RPC[0]\n",
    "\n",
    "key_name = f\"L2_{l2_chain_name}_{l1_chain_name}_RPC\".upper()\n",
    "L2_RPC = !yq eval \".{key_name}\" span-batch-analysis/secret.yaml\n",
    "L2_RPC_ENDPOINT = L2_RPC[0]"
   ]
  },
  {
   "cell_type": "code",
   "execution_count": 21,
   "metadata": {},
   "outputs": [],
   "source": [
    "%%capture\n",
    "%env L1_RPC=$L1_RPC_ENDPOINT\n",
    "%env L2_RPC=$L2_RPC_ENDPOINT"
   ]
  },
  {
   "cell_type": "markdown",
   "metadata": {},
   "source": [
    "## Data Collection"
   ]
  },
  {
   "cell_type": "markdown",
   "metadata": {},
   "source": [
    "All data will be stored at `./artifacts/{L1_CHAIN_NAME}/{L2_CHAIN_NAME}`"
   ]
  },
  {
   "cell_type": "code",
   "execution_count": 22,
   "metadata": {},
   "outputs": [
    {
     "name": "stdout",
     "output_type": "stream",
     "text": [
      "env: DB_PREFIX=./artifacts/goerli/op\n"
     ]
    }
   ],
   "source": [
    "l1_chain_name = os.environ[\"L1_CHAIN_NAME\"]\n",
    "l2_chain_name = os.environ[\"L2_CHAIN_NAME\"]\n",
    "\n",
    "%env DB_PREFIX=./artifacts/$l1_chain_name/$l2_chain_name"
   ]
  },
  {
   "cell_type": "markdown",
   "metadata": {},
   "source": [
    "batch decoder `fetch`: Read channel frames from L1 by reading batch transactions."
   ]
  },
  {
   "cell_type": "code",
   "execution_count": 23,
   "metadata": {},
   "outputs": [
    {
     "name": "stdout",
     "output_type": "stream",
     "text": [
      "Fetched block:  9519997\n",
      "Fetched block:  9519998\n",
      "Fetched block:  9519999\n",
      "Fetched block:  9519951\n",
      "Fetched block:  9519994\n",
      "Fetched block:  9519996\n",
      "Fetched block:  9519977\n",
      "Fetched batches in range [9500000,9520000). Found 5227 valid & 190 invalid batches\n",
      "Fetch Config: Chain ID: 5. Inbox Address: 0xff00000000000000000000000000000000000420. Valid Senders: map[0x7431310e026B69BFC676C0013E12A1A11411EEc9:{}].\n",
      "Wrote transactions with batches to ./artifacts/goerli/op/transactions_cache\n"
     ]
    }
   ],
   "source": [
    "!$BATCH_DECODER fetch --l1=$L1_RPC --start=$L1_START --end=$L1_END --inbox=$INBOX --out=$DB_PREFIX/transactions_cache --sender=$BATCH_TX_SENDER --concurrent-requests=25 | tail -10"
   ]
  },
  {
   "cell_type": "markdown",
   "metadata": {},
   "source": [
    "batch decoder `reassemble`: Reassemble channel frames to channels. "
   ]
  },
  {
   "cell_type": "code",
   "execution_count": 24,
   "metadata": {},
   "outputs": [],
   "source": [
    "!$BATCH_DECODER reassemble --inbox=$INBOX --in=$DB_PREFIX/transactions_cache --out=$DB_PREFIX/channel_cache | tail -10"
   ]
  },
  {
   "cell_type": "markdown",
   "metadata": {},
   "source": [
    "span batch tester `convert`: Convert channels with singular batches to span batches. Try multiple tx encoding types."
   ]
  },
  {
   "cell_type": "code",
   "execution_count": 25,
   "metadata": {},
   "outputs": [
    {
     "name": "stdout",
     "output_type": "stream",
     "text": [
      "[4860/4869] Channel ID: ffab1bed61b89d30899f4fec4b2e7f90, L2StartNum: 13197422, L2EndNum: 13197451, L2BlockCnt, 30\n",
      "[4861/4869] Channel ID: ffc734de488d29782ad9988444dc6eee, L2StartNum: 13215907, L2EndNum: 13215931, L2BlockCnt, 25\n",
      "[4862/4869] Channel ID: ffc83233adadd732c80a11ea9cf68a9b, L2StartNum: 13217325, L2EndNum: 13217354, L2BlockCnt, 30\n",
      "[4863/4869] Channel ID: ffceeaa964d38ae197f0c409b01a7f98, L2StartNum: 13177747, L2EndNum: 13177789, L2BlockCnt, 43\n",
      "[4864/4869] Channel ID: ffd728e29b0ac438d48c31c894753eb1, L2StartNum: 13222640, L2EndNum: 13222686, L2BlockCnt, 47\n",
      "[4865/4869] Channel ID: ffdf70003c3c6cf4e52aa4e8887a65f1, L2StartNum: 13187472, L2EndNum: 13187501, L2BlockCnt, 30\n",
      "[4866/4869] Channel ID: ffe558cbf7706335fada84d3da3e5c95, L2StartNum: 13291435, L2EndNum: 13291474, L2BlockCnt, 40\n",
      "[4867/4869] Channel ID: fffc9f6ea9b63b33c5c17d0fb1a7061f, L2StartNum: 13174502, L2EndNum: 13174524, L2BlockCnt, 23\n",
      "[4868/4869] Channel ID: fffd5a17a99e98edf732f21d8f406fbb, L2StartNum: 13221157, L2EndNum: 13221181, L2BlockCnt, 25\n",
      "[4869/4869] Channel ID: fffe3db33486f9a289378384e0d8985a, L2StartNum: 13210882, L2EndNum: 13210914, L2BlockCnt, 33\n"
     ]
    }
   ],
   "source": [
    "!TX_ENCODE_TYPE=0  && $SPAN_BATCH_TESTER convert --in=$DB_PREFIX/channel_cache --out=$DB_PREFIX/span_batch_cache_v$TX_ENCODE_TYPE --l2=$L2_RPC --genesis-timestamp=$L2_GENESIS_TIMESTAMP --chain-id=$L2_CHAIN_ID --tx-type=$TX_ENCODE_TYPE | tail -10"
   ]
  },
  {
   "cell_type": "code",
   "execution_count": 26,
   "metadata": {},
   "outputs": [
    {
     "name": "stdout",
     "output_type": "stream",
     "text": [
      "[4860/4869] Channel ID: ffab1bed61b89d30899f4fec4b2e7f90, L2StartNum: 13197422, L2EndNum: 13197451, L2BlockCnt, 30\n",
      "[4861/4869] Channel ID: ffc734de488d29782ad9988444dc6eee, L2StartNum: 13215907, L2EndNum: 13215931, L2BlockCnt, 25\n",
      "[4862/4869] Channel ID: ffc83233adadd732c80a11ea9cf68a9b, L2StartNum: 13217325, L2EndNum: 13217354, L2BlockCnt, 30\n",
      "[4863/4869] Channel ID: ffceeaa964d38ae197f0c409b01a7f98, L2StartNum: 13177747, L2EndNum: 13177789, L2BlockCnt, 43\n",
      "[4864/4869] Channel ID: ffd728e29b0ac438d48c31c894753eb1, L2StartNum: 13222640, L2EndNum: 13222686, L2BlockCnt, 47\n",
      "[4865/4869] Channel ID: ffdf70003c3c6cf4e52aa4e8887a65f1, L2StartNum: 13187472, L2EndNum: 13187501, L2BlockCnt, 30\n",
      "[4866/4869] Channel ID: ffe558cbf7706335fada84d3da3e5c95, L2StartNum: 13291435, L2EndNum: 13291474, L2BlockCnt, 40\n",
      "[4867/4869] Channel ID: fffc9f6ea9b63b33c5c17d0fb1a7061f, L2StartNum: 13174502, L2EndNum: 13174524, L2BlockCnt, 23\n",
      "[4868/4869] Channel ID: fffd5a17a99e98edf732f21d8f406fbb, L2StartNum: 13221157, L2EndNum: 13221181, L2BlockCnt, 25\n",
      "[4869/4869] Channel ID: fffe3db33486f9a289378384e0d8985a, L2StartNum: 13210882, L2EndNum: 13210914, L2BlockCnt, 33\n"
     ]
    }
   ],
   "source": [
    "!TX_ENCODE_TYPE=1  && $SPAN_BATCH_TESTER convert --in=$DB_PREFIX/channel_cache --out=$DB_PREFIX/span_batch_cache_v$TX_ENCODE_TYPE --l2=$L2_RPC --genesis-timestamp=$L2_GENESIS_TIMESTAMP --chain-id=$L2_CHAIN_ID --tx-type=$TX_ENCODE_TYPE | tail -10"
   ]
  },
  {
   "cell_type": "code",
   "execution_count": 27,
   "metadata": {},
   "outputs": [
    {
     "name": "stdout",
     "output_type": "stream",
     "text": [
      "[4860/4869] Channel ID: ffab1bed61b89d30899f4fec4b2e7f90, L2StartNum: 13197422, L2EndNum: 13197451, L2BlockCnt, 30\n",
      "[4861/4869] Channel ID: ffc734de488d29782ad9988444dc6eee, L2StartNum: 13215907, L2EndNum: 13215931, L2BlockCnt, 25\n",
      "[4862/4869] Channel ID: ffc83233adadd732c80a11ea9cf68a9b, L2StartNum: 13217325, L2EndNum: 13217354, L2BlockCnt, 30\n",
      "[4863/4869] Channel ID: ffceeaa964d38ae197f0c409b01a7f98, L2StartNum: 13177747, L2EndNum: 13177789, L2BlockCnt, 43\n",
      "[4864/4869] Channel ID: ffd728e29b0ac438d48c31c894753eb1, L2StartNum: 13222640, L2EndNum: 13222686, L2BlockCnt, 47\n",
      "[4865/4869] Channel ID: ffdf70003c3c6cf4e52aa4e8887a65f1, L2StartNum: 13187472, L2EndNum: 13187501, L2BlockCnt, 30\n",
      "[4866/4869] Channel ID: ffe558cbf7706335fada84d3da3e5c95, L2StartNum: 13291435, L2EndNum: 13291474, L2BlockCnt, 40\n",
      "[4867/4869] Channel ID: fffc9f6ea9b63b33c5c17d0fb1a7061f, L2StartNum: 13174502, L2EndNum: 13174524, L2BlockCnt, 23\n",
      "[4868/4869] Channel ID: fffd5a17a99e98edf732f21d8f406fbb, L2StartNum: 13221157, L2EndNum: 13221181, L2BlockCnt, 25\n",
      "[4869/4869] Channel ID: fffe3db33486f9a289378384e0d8985a, L2StartNum: 13210882, L2EndNum: 13210914, L2BlockCnt, 33\n"
     ]
    }
   ],
   "source": [
    "!TX_ENCODE_TYPE=2  && $SPAN_BATCH_TESTER convert --in=$DB_PREFIX/channel_cache --out=$DB_PREFIX/span_batch_cache_v$TX_ENCODE_TYPE --l2=$L2_RPC --genesis-timestamp=$L2_GENESIS_TIMESTAMP --chain-id=$L2_CHAIN_ID --tx-type=$TX_ENCODE_TYPE | tail -10"
   ]
  },
  {
   "cell_type": "markdown",
   "metadata": {},
   "source": [
    "span batch tester `analyze`: Analyze channels with singluar batches by comparing with corresponding span batches."
   ]
  },
  {
   "cell_type": "code",
   "execution_count": 28,
   "metadata": {},
   "outputs": [
    {
     "name": "stdout",
     "output_type": "stream",
     "text": [
      "[4860/4869] Channel ID: ffab1bed61b89d30899f4fec4b2e7f90, CompressedReductionPercent: 2.190540 %\n",
      "[4861/4869] Channel ID: ffc734de488d29782ad9988444dc6eee, CompressedReductionPercent: 35.468565 %\n",
      "[4862/4869] Channel ID: ffc83233adadd732c80a11ea9cf68a9b, CompressedReductionPercent: 16.787122 %\n",
      "[4863/4869] Channel ID: ffceeaa964d38ae197f0c409b01a7f98, CompressedReductionPercent: 21.589404 %\n",
      "[4864/4869] Channel ID: ffd728e29b0ac438d48c31c894753eb1, CompressedReductionPercent: 32.577132 %\n",
      "[4865/4869] Channel ID: ffdf70003c3c6cf4e52aa4e8887a65f1, CompressedReductionPercent: 27.126020 %\n",
      "[4866/4869] Channel ID: ffe558cbf7706335fada84d3da3e5c95, CompressedReductionPercent: 41.796875 %\n",
      "[4867/4869] Channel ID: fffc9f6ea9b63b33c5c17d0fb1a7061f, CompressedReductionPercent: 35.384125 %\n",
      "[4868/4869] Channel ID: fffd5a17a99e98edf732f21d8f406fbb, CompressedReductionPercent: 29.637527 %\n",
      "[4869/4869] Channel ID: fffe3db33486f9a289378384e0d8985a, CompressedReductionPercent: 19.413308 %\n"
     ]
    }
   ],
   "source": [
    "!TX_ENCODE_TYPE=0 && $SPAN_BATCH_TESTER analyze --in-channel=$DB_PREFIX/channel_cache --in-span-batch=$DB_PREFIX/span_batch_cache_v$TX_ENCODE_TYPE --out=$DB_PREFIX/result_v$TX_ENCODE_TYPE --chain-id=$L2_CHAIN_ID --tx-type=$TX_ENCODE_TYPE | tail -10"
   ]
  },
  {
   "cell_type": "code",
   "execution_count": 29,
   "metadata": {},
   "outputs": [
    {
     "name": "stdout",
     "output_type": "stream",
     "text": [
      "[4860/4869] Channel ID: ffab1bed61b89d30899f4fec4b2e7f90, CompressedReductionPercent: 2.436590 %\n",
      "[4861/4869] Channel ID: ffc734de488d29782ad9988444dc6eee, CompressedReductionPercent: 34.282325 %\n",
      "[4862/4869] Channel ID: ffc83233adadd732c80a11ea9cf68a9b, CompressedReductionPercent: 15.768725 %\n",
      "[4863/4869] Channel ID: ffceeaa964d38ae197f0c409b01a7f98, CompressedReductionPercent: 20.183393 %\n",
      "[4864/4869] Channel ID: ffd728e29b0ac438d48c31c894753eb1, CompressedReductionPercent: 31.624319 %\n",
      "[4865/4869] Channel ID: ffdf70003c3c6cf4e52aa4e8887a65f1, CompressedReductionPercent: 25.602901 %\n",
      "[4866/4869] Channel ID: ffe558cbf7706335fada84d3da3e5c95, CompressedReductionPercent: 40.280331 %\n",
      "[4867/4869] Channel ID: fffc9f6ea9b63b33c5c17d0fb1a7061f, CompressedReductionPercent: 34.140899 %\n",
      "[4868/4869] Channel ID: fffd5a17a99e98edf732f21d8f406fbb, CompressedReductionPercent: 27.955461 %\n",
      "[4869/4869] Channel ID: fffe3db33486f9a289378384e0d8985a, CompressedReductionPercent: 18.244694 %\n"
     ]
    }
   ],
   "source": [
    "!TX_ENCODE_TYPE=1 && $SPAN_BATCH_TESTER analyze --in-channel=$DB_PREFIX/channel_cache --in-span-batch=$DB_PREFIX/span_batch_cache_v$TX_ENCODE_TYPE --out=$DB_PREFIX/result_v$TX_ENCODE_TYPE --chain-id=$L2_CHAIN_ID --tx-type=$TX_ENCODE_TYPE | tail -10"
   ]
  },
  {
   "cell_type": "code",
   "execution_count": 30,
   "metadata": {},
   "outputs": [
    {
     "name": "stdout",
     "output_type": "stream",
     "text": [
      "[4860/4869] Channel ID: ffab1bed61b89d30899f4fec4b2e7f90, CompressedReductionPercent: 3.367358 %\n",
      "[4861/4869] Channel ID: ffc734de488d29782ad9988444dc6eee, CompressedReductionPercent: 36.773428 %\n",
      "[4862/4869] Channel ID: ffc83233adadd732c80a11ea9cf68a9b, CompressedReductionPercent: 17.597459 %\n",
      "[4863/4869] Channel ID: ffceeaa964d38ae197f0c409b01a7f98, CompressedReductionPercent: 22.424860 %\n",
      "[4864/4869] Channel ID: ffd728e29b0ac438d48c31c894753eb1, CompressedReductionPercent: 33.151845 %\n",
      "[4865/4869] Channel ID: ffdf70003c3c6cf4e52aa4e8887a65f1, CompressedReductionPercent: 28.467815 %\n",
      "[4866/4869] Channel ID: ffe558cbf7706335fada84d3da3e5c95, CompressedReductionPercent: 43.014706 %\n",
      "[4867/4869] Channel ID: fffc9f6ea9b63b33c5c17d0fb1a7061f, CompressedReductionPercent: 36.531718 %\n",
      "[4868/4869] Channel ID: fffd5a17a99e98edf732f21d8f406fbb, CompressedReductionPercent: 31.390666 %\n",
      "[4869/4869] Channel ID: fffe3db33486f9a289378384e0d8985a, CompressedReductionPercent: 20.283806 %\n"
     ]
    }
   ],
   "source": [
    "!TX_ENCODE_TYPE=2 && $SPAN_BATCH_TESTER analyze --in-channel=$DB_PREFIX/channel_cache --in-span-batch=$DB_PREFIX/span_batch_cache_v$TX_ENCODE_TYPE --out=$DB_PREFIX/result_v$TX_ENCODE_TYPE --chain-id=$L2_CHAIN_ID --tx-type=$TX_ENCODE_TYPE | tail -10"
   ]
  },
  {
   "cell_type": "markdown",
   "metadata": {},
   "source": [
    "span batch tester `fetch`: Fetch consecutive singular batches."
   ]
  },
  {
   "cell_type": "code",
   "execution_count": 31,
   "metadata": {},
   "outputs": [
    {
     "name": "stdout",
     "output_type": "stream",
     "text": [
      "Fetched L2 block:  13630994\n",
      "Fetched L2 block:  13630992\n",
      "Fetched L2 block:  13630997\n",
      "Fetched L2 block:  13630996\n",
      "Fetched L2 block:  13630979\n",
      "Fetched L2 block:  13630998\n",
      "Fetched L2 block:  13630995\n",
      "Fetched L2 block:  13630999\n",
      "Fetched v0 batches in range [13630000,13631000).\n",
      "Fetch Config: Chain ID: 420.\n"
     ]
    }
   ],
   "source": [
    "!$SPAN_BATCH_TESTER fetch --l2 $L2_RPC --start=$ACC_L2_START --end=$ACC_L2_END --concurrent-requests=100 --out=$DB_PREFIX/singular_batches_cache | tail -10"
   ]
  },
  {
   "cell_type": "markdown",
   "metadata": {},
   "source": [
    "span batch tester `merge`: Merge singular batches:\n",
    "\n",
    "This command will analyze `start - end` number of batches, Comparing uncompressed size of below two batches:\n",
    "- For `i` in range  `0` to `start - end - 1`\n",
    "  - singular batch from number `start` to `start + i`, inclusive.\n",
    "  - span batch from number `start` to `start + i`, inclusive.\n",
    "\n",
    "Upper command will make a result json file which has name of the form `{start_number}_{end_number}.json`."
   ]
  },
  {
   "cell_type": "code",
   "execution_count": 32,
   "metadata": {},
   "outputs": [
    {
     "name": "stdout",
     "output_type": "stream",
     "text": [
      "Merged v0 batches in range [13630000,13631000).\n"
     ]
    }
   ],
   "source": [
    "!$SPAN_BATCH_TESTER merge --start=$ACC_L2_START --end=$ACC_L2_END --l2 $L2_RPC --genesis-timestamp=$L2_GENESIS_TIMESTAMP --in=$DB_PREFIX/singular_batches_cache --out=$DB_PREFIX/merge_result | tail -10"
   ]
  }
 ],
 "metadata": {
  "kernelspec": {
   "display_name": "Python 3",
   "language": "python",
   "name": "python3"
  },
  "language_info": {
   "codemirror_mode": {
    "name": "ipython",
    "version": 3
   },
   "file_extension": ".py",
   "mimetype": "text/x-python",
   "name": "python",
   "nbconvert_exporter": "python",
   "pygments_lexer": "ipython3",
   "version": "3.9.6"
  },
  "orig_nbformat": 4
 },
 "nbformat": 4,
 "nbformat_minor": 2
}

{
 "cells": [
  {
   "cell_type": "markdown",
   "metadata": {},
   "source": [
    "# Span Batch Analysis - Data Preparation"
   ]
  },
  {
   "cell_type": "markdown",
   "metadata": {},
   "source": [
    "## Initialization"
   ]
  },
  {
   "cell_type": "markdown",
   "metadata": {},
   "source": [
    "Before start, Fill in [secret.yml](span-batch-analysis/secret.yaml). Refer to [secret_example.yml](span-batch-analysis/secret_example.yaml). This is for specifying RPC endpoints.\n",
    "\n",
    "Also check config located at [config](span-batch-analysis/config/)."
   ]
  },
  {
   "cell_type": "code",
   "execution_count": 2,
   "metadata": {},
   "outputs": [],
   "source": [
    "import os"
   ]
  },
  {
   "cell_type": "markdown",
   "metadata": {},
   "source": [
    "Build binaries."
   ]
  },
  {
   "cell_type": "code",
   "execution_count": 3,
   "metadata": {},
   "outputs": [],
   "source": [
    "%%bash\n",
    "cd cmd/batch_decoder && go build . && cd ../../\n",
    "cd cmd/span_batch_tester && go build . && cd ../../"
   ]
  },
  {
   "cell_type": "code",
   "execution_count": 4,
   "metadata": {},
   "outputs": [],
   "source": [
    "%%capture\n",
    "%env BATCH_DECODER=cmd/batch_decoder/batch_decoder\n",
    "%env SPAN_BATCH_TESTER=cmd/span_batch_tester/span_batch_tester"
   ]
  },
  {
   "cell_type": "markdown",
   "metadata": {},
   "source": [
    "Clone superchain config."
   ]
  },
  {
   "cell_type": "code",
   "execution_count": 5,
   "metadata": {},
   "outputs": [
    {
     "name": "stderr",
     "output_type": "stream",
     "text": [
      "fatal: destination path 'superchain-registry' already exists and is not an empty directory.\n"
     ]
    },
    {
     "name": "stderr",
     "output_type": "stream",
     "text": [
      "HEAD is now at 5d3ca19 superchain/extra: include minified genesis state data (#2)\n"
     ]
    }
   ],
   "source": [
    "%%bash\n",
    "git clone https://github.com/ethereum-optimism/superchain-registry\n",
    "cd superchain-registry && git checkout 5d3ca1966435827ac8c4216bddcb541ec64c1d6c && cd --"
   ]
  },
  {
   "cell_type": "markdown",
   "metadata": {},
   "source": [
    "Select your chain."
   ]
  },
  {
   "cell_type": "code",
   "execution_count": 6,
   "metadata": {},
   "outputs": [],
   "source": [
    "%%capture\n",
    "%env L1_CHAIN_NAME=mainnet\n",
    "%env L2_CHAIN_NAME=op\n",
    "\n",
    "# available networks\n",
    "#      L1 - L2 list\n",
    "# mainnet - base, op, pgn, zora\n",
    "# goerli  - base, op, zora\n",
    "# sepolia - op, pgn"
   ]
  },
  {
   "cell_type": "code",
   "execution_count": 7,
   "metadata": {},
   "outputs": [],
   "source": [
    "l1_chain_name = os.environ[\"L1_CHAIN_NAME\"]\n",
    "l2_chain_name = os.environ[\"L2_CHAIN_NAME\"]\n",
    "\n",
    "start_number = !yq eval \".start_l1_number\" \"span-batch-analysis/config/{l1_chain_name}/{l2_chain_name}.yaml\"\n",
    "start_number_value = int(start_number[0])\n",
    "end_number = !yq eval \".end_l1_number\" \"span-batch-analysis/config/{l1_chain_name}/{l2_chain_name}.yaml\"\n",
    "end_number_value = int(end_number[0])\n",
    "batch_tx_sender = !yq eval \".batch_tx_sender\" \"span-batch-analysis/config/{l1_chain_name}/{l2_chain_name}.yaml\"\n",
    "batch_tx_sender_value = batch_tx_sender[0]\n",
    "l2_genesis_timestamp = !yq eval \".genesis.l2_time\" \"superchain-registry/superchain/configs/{l1_chain_name}/{l2_chain_name}.yaml\"\n",
    "l2_genesis_timestamp_value = int(l2_genesis_timestamp[0])\n",
    "l2_chain_id = !yq eval \".chain_id\" \"superchain-registry/superchain/configs/{l1_chain_name}/{l2_chain_name}.yaml\"\n",
    "l2_chain_id_value = int(l2_chain_id[0])\n",
    "inbox_addr = !yq eval \".batch_inbox_addr\" \"superchain-registry/superchain/configs/{l1_chain_name}/{l2_chain_name}.yaml\"\n",
    "inbox_addr_value = inbox_addr[0]\n",
    "\n",
    "acc_start_number = !yq eval \".acc_l2_start_number\" \"span-batch-analysis/config/{l1_chain_name}/{l2_chain_name}.yaml\"\n",
    "acc_start_number_value = int(acc_start_number[0])\n",
    "acc_end_number = !yq eval \".acc_l2_end_number\" \"span-batch-analysis/config/{l1_chain_name}/{l2_chain_name}.yaml\"\n",
    "acc_end_number_value = int(acc_end_number[0])"
   ]
  },
  {
   "cell_type": "markdown",
   "metadata": {},
   "source": [
    "Read analyis config."
   ]
  },
  {
   "cell_type": "code",
   "execution_count": 8,
   "metadata": {},
   "outputs": [
    {
     "name": "stdout",
     "output_type": "stream",
     "text": [
      "env: L1_START=17890000\n",
      "env: L1_END=17910000\n",
      "env: BATCH_TX_SENDER=0x6887246668a3b87F54DeB3b94Ba47a6f63F32985\n",
      "env: L2_GENESIS_TIMESTAMP=1686068903\n",
      "env: L2_CHAIN_ID=10\n",
      "env: INBOX=0xff00000000000000000000000000000000000010\n",
      "env: ACC_L2_START=107880000\n",
      "env: ACC_L2_END=107881000\n"
     ]
    }
   ],
   "source": [
    "%env L1_START=$start_number_value\n",
    "%env L1_END=$end_number_value\n",
    "%env BATCH_TX_SENDER=$batch_tx_sender_value\n",
    "%env L2_GENESIS_TIMESTAMP=$l2_genesis_timestamp_value\n",
    "%env L2_CHAIN_ID=$l2_chain_id_value\n",
    "%env INBOX=$inbox_addr_value\n",
    "\n",
    "%env ACC_L2_START=$acc_start_number_value\n",
    "%env ACC_L2_END=$acc_end_number_value\n"
   ]
  },
  {
   "cell_type": "markdown",
   "metadata": {},
   "source": [
    "Get L1 RPC from secret."
   ]
  },
  {
   "cell_type": "code",
   "execution_count": 9,
   "metadata": {},
   "outputs": [],
   "source": [
    "key_name = f\"L1_{l1_chain_name}_RPC\".upper()\n",
    "L1_RPC = !yq eval \".{key_name}\" span-batch-analysis/secret.yaml\n",
    "L1_RPC_ENDPOINT = L1_RPC[0]\n",
    "\n",
    "key_name = f\"L2_{l2_chain_name}_{l1_chain_name}_RPC\".upper()\n",
    "L2_RPC = !yq eval \".{key_name}\" span-batch-analysis/secret.yaml\n",
    "L2_RPC_ENDPOINT = L2_RPC[0]"
   ]
  },
  {
   "cell_type": "code",
   "execution_count": 10,
   "metadata": {},
   "outputs": [],
   "source": [
    "%%capture\n",
    "%env L1_RPC=$L1_RPC_ENDPOINT\n",
    "%env L2_RPC=$L2_RPC_ENDPOINT"
   ]
  },
  {
   "cell_type": "markdown",
   "metadata": {},
   "source": [
    "## Data Collection"
   ]
  },
  {
   "cell_type": "markdown",
   "metadata": {},
   "source": [
    "All data will be stored at `./artifacts/{L1_CHAIN_NAME}/{L2_CHAIN_NAME}`"
   ]
  },
  {
   "cell_type": "code",
   "execution_count": 11,
   "metadata": {},
   "outputs": [
    {
     "name": "stdout",
     "output_type": "stream",
     "text": [
      "env: DB_PREFIX=./artifacts/mainnet/op\n"
     ]
    }
   ],
   "source": [
    "l1_chain_name = os.environ[\"L1_CHAIN_NAME\"]\n",
    "l2_chain_name = os.environ[\"L2_CHAIN_NAME\"]\n",
    "\n",
    "%env DB_PREFIX=./artifacts/$l1_chain_name/$l2_chain_name"
   ]
  },
  {
   "cell_type": "markdown",
   "metadata": {},
   "source": [
    "batch decoder `fetch`: Read channel frames from L1 by reading batch transactions."
   ]
  },
  {
   "cell_type": "code",
   "execution_count": 11,
   "metadata": {},
   "outputs": [
    {
     "name": "stdout",
     "output_type": "stream",
     "text": [
      "Fetched block:  17909997\n",
      "Fetched block:  17909967\n",
      "Fetched block:  17909968\n",
      "Fetched block:  17909975\n",
      "Fetched block:  17909981\n",
      "Fetched block:  17909993\n",
      "Fetched block:  17909982\n",
      "Fetched batches in range [17890000,17910000). Found 2163 valid & 792 invalid batches\n",
      "Fetch Config: Chain ID: 1. Inbox Address: 0xFF00000000000000000000000000000000000010. Valid Senders: map[0x6887246668a3b87F54DeB3b94Ba47a6f63F32985:{}].\n",
      "Wrote transactions with batches to ./artifacts/mainnet/op/transactions_cache\n"
     ]
    }
   ],
   "source": [
    "!$BATCH_DECODER fetch --l1=$L1_RPC --start=$L1_START --end=$L1_END --inbox=$INBOX --out=$DB_PREFIX/transactions_cache --sender=$BATCH_TX_SENDER --concurrent-requests=25 | tail -10"
   ]
  },
  {
   "cell_type": "markdown",
   "metadata": {},
   "source": [
    "batch decoder `reassemble`: Reassemble channel frames to channels. "
   ]
  },
  {
   "cell_type": "code",
   "execution_count": 12,
   "metadata": {},
   "outputs": [
    {
     "name": "stdout",
     "output_type": "stream",
     "text": [
      "Channel dda230ad9d14cfeb0cd839fe4e05424f is not ready\n",
      "Channel a396ab40b67c58c7a18c17b77c7bd73f is not ready\n"
     ]
    }
   ],
   "source": [
    "!$BATCH_DECODER reassemble --inbox=$INBOX --in=$DB_PREFIX/transactions_cache --out=$DB_PREFIX/channel_cache | tail -10"
   ]
  },
  {
   "cell_type": "markdown",
   "metadata": {},
   "source": [
    "span batch tester `convert`: Convert channels with singular batches to span batches. Try multiple tx encoding types."
   ]
  },
  {
   "cell_type": "code",
   "execution_count": 13,
   "metadata": {},
   "outputs": [
    {
     "name": "stdout",
     "output_type": "stream",
     "text": [
      "[401/410] Channel ID: fa729080158c4409583baa64ca47d871, L2StartNum: 108145198, L2EndNum: 108145492, L2BlockCnt, 295\n",
      "[402/410] Channel ID: fb294776caf374b6b5ad4dbba5b68e28, L2StartNum: 108113345, L2EndNum: 108113644, L2BlockCnt, 300\n",
      "[403/410] Channel ID: fbb60af1f1f533798757ddbfcc9d2398, L2StartNum: 108180850, L2EndNum: 108181144, L2BlockCnt, 295\n",
      "[404/410] Channel ID: fccd398169ba5666298304ae3b426310, L2StartNum: 108132765, L2EndNum: 108133059, L2BlockCnt, 295\n",
      "[405/410] Channel ID: fce92af6f5c4327ed3b57be0b2f6b1f6, L2StartNum: 108087658, L2EndNum: 108087957, L2BlockCnt, 300\n",
      "[406/410] Channel ID: fd5c7f7e7106b6b2ebd29d0304bf3e61, L2StartNum: 108146985, L2EndNum: 108147292, L2BlockCnt, 308\n",
      "[407/410] Channel ID: fe1f57497c16f7fa81fadf51ac98a2a4, L2StartNum: 108126515, L2EndNum: 108126807, L2BlockCnt, 293\n",
      "[408/410] Channel ID: feb664c9fe77328435d94dbf45956278, L2StartNum: 108133355, L2EndNum: 108133654, L2BlockCnt, 300\n",
      "[409/410] Channel ID: ff02d942b9988e8250a418028402468b, L2StartNum: 108128278, L2EndNum: 108128572, L2BlockCnt, 295\n",
      "[410/410] Channel ID: ff7de89be5bc08ae1a886fafcaf5d9ac, L2StartNum: 108176368, L2EndNum: 108176667, L2BlockCnt, 300\n"
     ]
    }
   ],
   "source": [
    "!TX_ENCODE_TYPE=0  && $SPAN_BATCH_TESTER convert --in=$DB_PREFIX/channel_cache --out=$DB_PREFIX/span_batch_cache_v$TX_ENCODE_TYPE --l2=$L2_RPC --genesis-timestamp=$L2_GENESIS_TIMESTAMP --chain-id=$L2_CHAIN_ID --tx-type=$TX_ENCODE_TYPE | tail -10"
   ]
  },
  {
   "cell_type": "code",
   "execution_count": 14,
   "metadata": {},
   "outputs": [
    {
     "name": "stdout",
     "output_type": "stream",
     "text": [
      "[401/410] Channel ID: fa729080158c4409583baa64ca47d871, L2StartNum: 108145198, L2EndNum: 108145492, L2BlockCnt, 295\n",
      "[402/410] Channel ID: fb294776caf374b6b5ad4dbba5b68e28, L2StartNum: 108113345, L2EndNum: 108113644, L2BlockCnt, 300\n",
      "[403/410] Channel ID: fbb60af1f1f533798757ddbfcc9d2398, L2StartNum: 108180850, L2EndNum: 108181144, L2BlockCnt, 295\n",
      "[404/410] Channel ID: fccd398169ba5666298304ae3b426310, L2StartNum: 108132765, L2EndNum: 108133059, L2BlockCnt, 295\n",
      "[405/410] Channel ID: fce92af6f5c4327ed3b57be0b2f6b1f6, L2StartNum: 108087658, L2EndNum: 108087957, L2BlockCnt, 300\n",
      "[406/410] Channel ID: fd5c7f7e7106b6b2ebd29d0304bf3e61, L2StartNum: 108146985, L2EndNum: 108147292, L2BlockCnt, 308\n",
      "[407/410] Channel ID: fe1f57497c16f7fa81fadf51ac98a2a4, L2StartNum: 108126515, L2EndNum: 108126807, L2BlockCnt, 293\n",
      "[408/410] Channel ID: feb664c9fe77328435d94dbf45956278, L2StartNum: 108133355, L2EndNum: 108133654, L2BlockCnt, 300\n",
      "[409/410] Channel ID: ff02d942b9988e8250a418028402468b, L2StartNum: 108128278, L2EndNum: 108128572, L2BlockCnt, 295\n",
      "[410/410] Channel ID: ff7de89be5bc08ae1a886fafcaf5d9ac, L2StartNum: 108176368, L2EndNum: 108176667, L2BlockCnt, 300\n"
     ]
    }
   ],
   "source": [
    "!TX_ENCODE_TYPE=1  && $SPAN_BATCH_TESTER convert --in=$DB_PREFIX/channel_cache --out=$DB_PREFIX/span_batch_cache_v$TX_ENCODE_TYPE --l2=$L2_RPC --genesis-timestamp=$L2_GENESIS_TIMESTAMP --chain-id=$L2_CHAIN_ID --tx-type=$TX_ENCODE_TYPE | tail -10"
   ]
  },
  {
   "cell_type": "code",
   "execution_count": 15,
   "metadata": {},
   "outputs": [
    {
     "name": "stdout",
     "output_type": "stream",
     "text": [
      "[401/410] Channel ID: fa729080158c4409583baa64ca47d871, L2StartNum: 108145198, L2EndNum: 108145492, L2BlockCnt, 295\n",
      "[402/410] Channel ID: fb294776caf374b6b5ad4dbba5b68e28, L2StartNum: 108113345, L2EndNum: 108113644, L2BlockCnt, 300\n",
      "[403/410] Channel ID: fbb60af1f1f533798757ddbfcc9d2398, L2StartNum: 108180850, L2EndNum: 108181144, L2BlockCnt, 295\n",
      "[404/410] Channel ID: fccd398169ba5666298304ae3b426310, L2StartNum: 108132765, L2EndNum: 108133059, L2BlockCnt, 295\n",
      "[405/410] Channel ID: fce92af6f5c4327ed3b57be0b2f6b1f6, L2StartNum: 108087658, L2EndNum: 108087957, L2BlockCnt, 300\n",
      "[406/410] Channel ID: fd5c7f7e7106b6b2ebd29d0304bf3e61, L2StartNum: 108146985, L2EndNum: 108147292, L2BlockCnt, 308\n",
      "[407/410] Channel ID: fe1f57497c16f7fa81fadf51ac98a2a4, L2StartNum: 108126515, L2EndNum: 108126807, L2BlockCnt, 293\n",
      "[408/410] Channel ID: feb664c9fe77328435d94dbf45956278, L2StartNum: 108133355, L2EndNum: 108133654, L2BlockCnt, 300\n",
      "[409/410] Channel ID: ff02d942b9988e8250a418028402468b, L2StartNum: 108128278, L2EndNum: 108128572, L2BlockCnt, 295\n",
      "[410/410] Channel ID: ff7de89be5bc08ae1a886fafcaf5d9ac, L2StartNum: 108176368, L2EndNum: 108176667, L2BlockCnt, 300\n"
     ]
    }
   ],
   "source": [
    "!TX_ENCODE_TYPE=2  && $SPAN_BATCH_TESTER convert --in=$DB_PREFIX/channel_cache --out=$DB_PREFIX/span_batch_cache_v$TX_ENCODE_TYPE --l2=$L2_RPC --genesis-timestamp=$L2_GENESIS_TIMESTAMP --chain-id=$L2_CHAIN_ID --tx-type=$TX_ENCODE_TYPE | tail -10"
   ]
  },
  {
   "cell_type": "markdown",
   "metadata": {},
   "source": [
    "span batch tester `analyze`: Analyze channels with singluar batches by comparing with corresponding span batches."
   ]
  },
  {
   "cell_type": "code",
   "execution_count": 16,
   "metadata": {},
   "outputs": [
    {
     "name": "stdout",
     "output_type": "stream",
     "text": [
      "[399/408] Channel ID: fa729080158c4409583baa64ca47d871, CompressedReductionPercent: 7.552134 %\n",
      "[400/408] Channel ID: fb294776caf374b6b5ad4dbba5b68e28, CompressedReductionPercent: 6.029229 %\n",
      "[401/408] Channel ID: fbb60af1f1f533798757ddbfcc9d2398, CompressedReductionPercent: 6.801038 %\n",
      "[402/408] Channel ID: fccd398169ba5666298304ae3b426310, CompressedReductionPercent: 6.601501 %\n",
      "[403/408] Channel ID: fce92af6f5c4327ed3b57be0b2f6b1f6, CompressedReductionPercent: 5.112179 %\n",
      "[404/408] Channel ID: fd5c7f7e7106b6b2ebd29d0304bf3e61, CompressedReductionPercent: 7.192620 %\n",
      "[405/408] Channel ID: fe1f57497c16f7fa81fadf51ac98a2a4, CompressedReductionPercent: 6.151228 %\n",
      "[406/408] Channel ID: feb664c9fe77328435d94dbf45956278, CompressedReductionPercent: 6.363372 %\n",
      "[407/408] Channel ID: ff02d942b9988e8250a418028402468b, CompressedReductionPercent: 5.397121 %\n",
      "[408/408] Channel ID: ff7de89be5bc08ae1a886fafcaf5d9ac, CompressedReductionPercent: 6.845907 %\n"
     ]
    }
   ],
   "source": [
    "!TX_ENCODE_TYPE=0 && $SPAN_BATCH_TESTER analyze --in-channel=$DB_PREFIX/channel_cache --in-span-batch=$DB_PREFIX/span_batch_cache_v$TX_ENCODE_TYPE --out=$DB_PREFIX/result_v$TX_ENCODE_TYPE --chain-id=$L2_CHAIN_ID --tx-type=$TX_ENCODE_TYPE | tail -10"
   ]
  },
  {
   "cell_type": "code",
   "execution_count": 17,
   "metadata": {},
   "outputs": [
    {
     "name": "stdout",
     "output_type": "stream",
     "text": [
      "[399/408] Channel ID: fa729080158c4409583baa64ca47d871, CompressedReductionPercent: 4.504091 %\n",
      "[400/408] Channel ID: fb294776caf374b6b5ad4dbba5b68e28, CompressedReductionPercent: 2.985339 %\n",
      "[401/408] Channel ID: fbb60af1f1f533798757ddbfcc9d2398, CompressedReductionPercent: 3.902365 %\n",
      "[402/408] Channel ID: fccd398169ba5666298304ae3b426310, CompressedReductionPercent: 3.586205 %\n",
      "[403/408] Channel ID: fce92af6f5c4327ed3b57be0b2f6b1f6, CompressedReductionPercent: 2.596872 %\n",
      "[404/408] Channel ID: fd5c7f7e7106b6b2ebd29d0304bf3e61, CompressedReductionPercent: 4.031155 %\n",
      "[405/408] Channel ID: fe1f57497c16f7fa81fadf51ac98a2a4, CompressedReductionPercent: 2.840200 %\n",
      "[406/408] Channel ID: feb664c9fe77328435d94dbf45956278, CompressedReductionPercent: 3.488432 %\n",
      "[407/408] Channel ID: ff02d942b9988e8250a418028402468b, CompressedReductionPercent: 2.442320 %\n",
      "[408/408] Channel ID: ff7de89be5bc08ae1a886fafcaf5d9ac, CompressedReductionPercent: 3.560317 %\n"
     ]
    }
   ],
   "source": [
    "!TX_ENCODE_TYPE=1 && $SPAN_BATCH_TESTER analyze --in-channel=$DB_PREFIX/channel_cache --in-span-batch=$DB_PREFIX/span_batch_cache_v$TX_ENCODE_TYPE --out=$DB_PREFIX/result_v$TX_ENCODE_TYPE --chain-id=$L2_CHAIN_ID --tx-type=$TX_ENCODE_TYPE | tail -10"
   ]
  },
  {
   "cell_type": "code",
   "execution_count": 18,
   "metadata": {},
   "outputs": [
    {
     "name": "stdout",
     "output_type": "stream",
     "text": [
      "[399/408] Channel ID: fa729080158c4409583baa64ca47d871, CompressedReductionPercent: 9.989832 %\n",
      "[400/408] Channel ID: fb294776caf374b6b5ad4dbba5b68e28, CompressedReductionPercent: 8.929760 %\n",
      "[401/408] Channel ID: fbb60af1f1f533798757ddbfcc9d2398, CompressedReductionPercent: 9.655904 %\n",
      "[402/408] Channel ID: fccd398169ba5666298304ae3b426310, CompressedReductionPercent: 9.384179 %\n",
      "[403/408] Channel ID: fce92af6f5c4327ed3b57be0b2f6b1f6, CompressedReductionPercent: 7.596212 %\n",
      "[404/408] Channel ID: fd5c7f7e7106b6b2ebd29d0304bf3e61, CompressedReductionPercent: 9.869628 %\n",
      "[405/408] Channel ID: fe1f57497c16f7fa81fadf51ac98a2a4, CompressedReductionPercent: 9.153978 %\n",
      "[406/408] Channel ID: feb664c9fe77328435d94dbf45956278, CompressedReductionPercent: 9.191252 %\n",
      "[407/408] Channel ID: ff02d942b9988e8250a418028402468b, CompressedReductionPercent: 8.368134 %\n",
      "[408/408] Channel ID: ff7de89be5bc08ae1a886fafcaf5d9ac, CompressedReductionPercent: 9.723770 %\n"
     ]
    }
   ],
   "source": [
    "!TX_ENCODE_TYPE=2 && $SPAN_BATCH_TESTER analyze --in-channel=$DB_PREFIX/channel_cache --in-span-batch=$DB_PREFIX/span_batch_cache_v$TX_ENCODE_TYPE --out=$DB_PREFIX/result_v$TX_ENCODE_TYPE --chain-id=$L2_CHAIN_ID --tx-type=$TX_ENCODE_TYPE | tail -10"
   ]
  },
  {
   "cell_type": "markdown",
   "metadata": {},
   "source": [
    "span batch tester `fetch`: Fetch consecutive singular batches."
   ]
  },
  {
   "cell_type": "code",
   "execution_count": 19,
   "metadata": {},
   "outputs": [
    {
     "name": "stdout",
     "output_type": "stream",
     "text": [
      "Fetched L2 block:  107880992\n",
      "Fetched L2 block:  107880996\n",
      "Fetched L2 block:  107880997\n",
      "Fetched L2 block:  107880995\n",
      "Fetched L2 block:  107880993\n",
      "Fetched L2 block:  107880994\n",
      "Fetched L2 block:  107880999\n",
      "Fetched L2 block:  107880998\n",
      "Fetched v0 batches in range [107880000,107881000).\n",
      "Fetch Config: Chain ID: 10.\n"
     ]
    }
   ],
   "source": [
    "!$SPAN_BATCH_TESTER fetch --l2 $L2_RPC --start=$ACC_L2_START --end=$ACC_L2_END --concurrent-requests=100 --out=$DB_PREFIX/singular_batches_cache | tail -10"
   ]
  },
  {
   "cell_type": "markdown",
   "metadata": {},
   "source": [
    "span batch tester `merge`: Merge singular batches:\n",
    "\n",
    "This command will analyze `start - end` number of batches, Comparing uncompressed size of below two batches:\n",
    "- For `i` in range  `0` to `start - end - 1`\n",
    "  - singular batch from number `start` to `start + i`, inclusive.\n",
    "  - span batch from number `start` to `start + i`, inclusive.\n",
    "\n",
    "Upper command will make a result json file which has name of the form `{start_number}_{end_number}.json`."
   ]
  },
  {
   "cell_type": "code",
   "execution_count": 12,
   "metadata": {},
   "outputs": [
    {
     "name": "stdout",
     "output_type": "stream",
     "text": [
      "Merged v0 batches in range [107880000,107881000).\n"
     ]
    }
   ],
   "source": [
    "!$SPAN_BATCH_TESTER merge --start=$ACC_L2_START --end=$ACC_L2_END --l2 $L2_RPC --genesis-timestamp=$L2_GENESIS_TIMESTAMP --in=$DB_PREFIX/singular_batches_cache --out=$DB_PREFIX/merge_result | tail -10"
   ]
  },
  {
   "cell_type": "markdown",
   "metadata": {},
   "source": [
    "span batch tester `format`: Compare different tx encodings for span batch.\n"
   ]
  },
  {
   "cell_type": "code",
   "execution_count": 21,
   "metadata": {},
   "outputs": [
    {
     "name": "stdout",
     "output_type": "stream",
     "text": [
      "Reduction Percentage: 0.007508 %\n",
      "[405/408] cnt: 324, delta: 94, deltasum: 37321, originalCompressedSizeSum: 212245285\n",
      "Reduction Percentage: 0.018305 %\n",
      "[406/408] cnt: 325, delta: 41, deltasum: 37362, originalCompressedSizeSum: 212670092\n",
      "Reduction Percentage: 0.009651 %\n",
      "[407/408] cnt: 325, delta: -80, deltasum: 37282, originalCompressedSizeSum: 213280502\n",
      "Reduction Percentage: -0.013106 %\n",
      "[408/408] cnt: 326, delta: 157, deltasum: 37439, originalCompressedSizeSum: 213694685\n",
      "Reduction Percentage: 0.037906 %\n",
      "Final Reduction Percentage: 0.017520 %\n"
     ]
    }
   ],
   "source": [
    "!$SPAN_BATCH_TESTER format --permutation 0123465 --in-span-batch=$DB_PREFIX/span_batch_cache_v2 --out=$DB_PREFIX/format_result --chain-id=$L2_CHAIN_ID | tail -10"
   ]
  },
  {
   "cell_type": "code",
   "execution_count": 22,
   "metadata": {},
   "outputs": [
    {
     "name": "stdout",
     "output_type": "stream",
     "text": [
      "Reduction Percentage: -0.046603 %\n",
      "[405/408] cnt: 262, delta: 183, deltasum: 45856, originalCompressedSizeSum: 212245285\n",
      "Reduction Percentage: 0.035636 %\n",
      "[406/408] cnt: 262, delta: -170, deltasum: 45686, originalCompressedSizeSum: 212670092\n",
      "Reduction Percentage: -0.040018 %\n",
      "[407/408] cnt: 262, delta: -325, deltasum: 45361, originalCompressedSizeSum: 213280502\n",
      "Reduction Percentage: -0.053243 %\n",
      "[408/408] cnt: 263, delta: 5, deltasum: 45366, originalCompressedSizeSum: 213694685\n",
      "Reduction Percentage: 0.001207 %\n",
      "Final Reduction Percentage: 0.021229 %\n"
     ]
    }
   ],
   "source": [
    "!$SPAN_BATCH_TESTER format --permutation 0134625 --in-span-batch=$DB_PREFIX/span_batch_cache_v2 --out=$DB_PREFIX/format_result --chain-id=$L2_CHAIN_ID | tail -10"
   ]
  },
  {
   "cell_type": "code",
   "execution_count": 23,
   "metadata": {},
   "outputs": [
    {
     "name": "stdout",
     "output_type": "stream",
     "text": [
      "Reduction Percentage: 0.014499 %\n",
      "[405/408] cnt: 350, delta: 307, deltasum: 97958, originalCompressedSizeSum: 212245285\n",
      "Reduction Percentage: 0.059782 %\n",
      "[406/408] cnt: 351, delta: 13, deltasum: 97971, originalCompressedSizeSum: 212670092\n",
      "Reduction Percentage: 0.003060 %\n",
      "[407/408] cnt: 351, delta: -35, deltasum: 97936, originalCompressedSizeSum: 213280502\n",
      "Reduction Percentage: -0.005734 %\n",
      "[408/408] cnt: 352, delta: 128, deltasum: 98064, originalCompressedSizeSum: 213694685\n",
      "Reduction Percentage: 0.030904 %\n",
      "Final Reduction Percentage: 0.045890 %\n"
     ]
    }
   ],
   "source": [
    "!$SPAN_BATCH_TESTER format --permutation 3041265 --in-span-batch=$DB_PREFIX/span_batch_cache_v2 --out=$DB_PREFIX/format_result --chain-id=$L2_CHAIN_ID | tail -10"
   ]
  },
  {
   "cell_type": "code",
   "execution_count": 24,
   "metadata": {},
   "outputs": [
    {
     "name": "stdout",
     "output_type": "stream",
     "text": [
      "Reduction Percentage: 0.052040 %\n",
      "[405/408] cnt: 365, delta: 478, deltasum: 96751, originalCompressedSizeSum: 212245285\n",
      "Reduction Percentage: 0.093081 %\n",
      "[406/408] cnt: 366, delta: 287, deltasum: 97038, originalCompressedSizeSum: 212670092\n",
      "Reduction Percentage: 0.067560 %\n",
      "[407/408] cnt: 366, delta: -14, deltasum: 97024, originalCompressedSizeSum: 213280502\n",
      "Reduction Percentage: -0.002294 %\n",
      "[408/408] cnt: 367, delta: 141, deltasum: 97165, originalCompressedSizeSum: 213694685\n",
      "Reduction Percentage: 0.034043 %\n",
      "Final Reduction Percentage: 0.045469 %\n"
     ]
    }
   ],
   "source": [
    "!$SPAN_BATCH_TESTER format --permutation 0125634 --in-span-batch=$DB_PREFIX/span_batch_cache_v2 --out=$DB_PREFIX/format_result --chain-id=$L2_CHAIN_ID | tail -10"
   ]
  },
  {
   "cell_type": "code",
   "execution_count": 25,
   "metadata": {},
   "outputs": [
    {
     "name": "stdout",
     "output_type": "stream",
     "text": [
      "Reduction Percentage: -0.048415 %\n",
      "[405/408] cnt: 171, delta: 56, deltasum: -13307, originalCompressedSizeSum: 212245285\n",
      "Reduction Percentage: 0.010905 %\n",
      "[406/408] cnt: 171, delta: -169, deltasum: -13476, originalCompressedSizeSum: 212670092\n",
      "Reduction Percentage: -0.039783 %\n",
      "[407/408] cnt: 171, delta: -405, deltasum: -13881, originalCompressedSizeSum: 213280502\n",
      "Reduction Percentage: -0.066349 %\n",
      "[408/408] cnt: 171, delta: -83, deltasum: -13964, originalCompressedSizeSum: 213694685\n",
      "Reduction Percentage: -0.020039 %\n",
      "Final Reduction Percentage: -0.006535 %\n"
     ]
    }
   ],
   "source": [
    "!$SPAN_BATCH_TESTER format --permutation 0324165 --in-span-batch=$DB_PREFIX/span_batch_cache_v2 --out=$DB_PREFIX/format_result --chain-id=$L2_CHAIN_ID | tail -10"
   ]
  },
  {
   "cell_type": "code",
   "execution_count": 26,
   "metadata": {},
   "outputs": [
    {
     "name": "stdout",
     "output_type": "stream",
     "text": [
      "Reduction Percentage: 0.013722 %\n",
      "[405/408] cnt: 402, delta: 305, deltasum: 87474, originalCompressedSizeSum: 212245285\n",
      "Reduction Percentage: 0.059393 %\n",
      "[406/408] cnt: 403, delta: 32, deltasum: 87506, originalCompressedSizeSum: 212670092\n",
      "Reduction Percentage: 0.007533 %\n",
      "[407/408] cnt: 404, delta: 52, deltasum: 87558, originalCompressedSizeSum: 213280502\n",
      "Reduction Percentage: 0.008519 %\n",
      "[408/408] cnt: 405, delta: 30, deltasum: 87588, originalCompressedSizeSum: 213694685\n",
      "Reduction Percentage: 0.007243 %\n",
      "Final Reduction Percentage: 0.040987 %\n"
     ]
    }
   ],
   "source": [
    "!$SPAN_BATCH_TESTER format --permutation 3041256 --in-span-batch=$DB_PREFIX/span_batch_cache_v2 --out=$DB_PREFIX/format_result --chain-id=$L2_CHAIN_ID | tail -10"
   ]
  },
  {
   "cell_type": "code",
   "execution_count": 27,
   "metadata": {},
   "outputs": [
    {
     "name": "stdout",
     "output_type": "stream",
     "text": [
      "Reduction Percentage: 0.013463 %\n",
      "[405/408] cnt: 402, delta: 305, deltasum: 87533, originalCompressedSizeSum: 212245285\n",
      "Reduction Percentage: 0.059393 %\n",
      "[406/408] cnt: 403, delta: 33, deltasum: 87566, originalCompressedSizeSum: 212670092\n",
      "Reduction Percentage: 0.007768 %\n",
      "[407/408] cnt: 404, delta: 52, deltasum: 87618, originalCompressedSizeSum: 213280502\n",
      "Reduction Percentage: 0.008519 %\n",
      "[408/408] cnt: 405, delta: 30, deltasum: 87648, originalCompressedSizeSum: 213694685\n",
      "Reduction Percentage: 0.007243 %\n",
      "Final Reduction Percentage: 0.041016 %\n"
     ]
    }
   ],
   "source": [
    "!$SPAN_BATCH_TESTER format --permutation 3401256 --in-span-batch=$DB_PREFIX/span_batch_cache_v2 --out=$DB_PREFIX/format_result --chain-id=$L2_CHAIN_ID | tail -10"
   ]
  },
  {
   "cell_type": "code",
   "execution_count": 28,
   "metadata": {},
   "outputs": [
    {
     "name": "stdout",
     "output_type": "stream",
     "text": [
      "Reduction Percentage: 0.028997 %\n",
      "[405/408] cnt: 352, delta: 380, deltasum: 111833, originalCompressedSizeSum: 212245285\n",
      "Reduction Percentage: 0.073998 %\n",
      "[406/408] cnt: 353, delta: 361, deltasum: 112194, originalCompressedSizeSum: 212670092\n",
      "Reduction Percentage: 0.084980 %\n",
      "[407/408] cnt: 354, delta: 115, deltasum: 112309, originalCompressedSizeSum: 213280502\n",
      "Reduction Percentage: 0.018840 %\n",
      "[408/408] cnt: 355, delta: 79, deltasum: 112388, originalCompressedSizeSum: 213694685\n",
      "Reduction Percentage: 0.019074 %\n",
      "Final Reduction Percentage: 0.052593 %\n"
     ]
    }
   ],
   "source": [
    "!$SPAN_BATCH_TESTER format --permutation 6051234 --in-span-batch=$DB_PREFIX/span_batch_cache_v2 --out=$DB_PREFIX/format_result --chain-id=$L2_CHAIN_ID | tail -10"
   ]
  },
  {
   "cell_type": "code",
   "execution_count": 29,
   "metadata": {},
   "outputs": [
    {
     "name": "stdout",
     "output_type": "stream",
     "text": [
      "Reduction Percentage: -0.051004 %\n",
      "[405/408] cnt: 109, delta: -4, deltasum: -44113, originalCompressedSizeSum: 212245285\n",
      "Reduction Percentage: -0.000779 %\n",
      "[406/408] cnt: 109, delta: -196, deltasum: -44309, originalCompressedSizeSum: 212670092\n",
      "Reduction Percentage: -0.046139 %\n",
      "[407/408] cnt: 109, delta: -326, deltasum: -44635, originalCompressedSizeSum: 213280502\n",
      "Reduction Percentage: -0.053407 %\n",
      "[408/408] cnt: 109, delta: -223, deltasum: -44858, originalCompressedSizeSum: 213694685\n",
      "Reduction Percentage: -0.053841 %\n",
      "Final Reduction Percentage: -0.020992 %\n"
     ]
    }
   ],
   "source": [
    "!$SPAN_BATCH_TESTER format --permutation 0132456 --in-span-batch=$DB_PREFIX/span_batch_cache_v2 --out=$DB_PREFIX/format_result --chain-id=$L2_CHAIN_ID | tail -10"
   ]
  },
  {
   "cell_type": "code",
   "execution_count": 30,
   "metadata": {},
   "outputs": [
    {
     "name": "stdout",
     "output_type": "stream",
     "text": [
      "Reduction Percentage: -0.017606 %\n",
      "[405/408] cnt: 116, delta: 110, deltasum: -51919, originalCompressedSizeSum: 212245285\n",
      "Reduction Percentage: 0.021420 %\n",
      "[406/408] cnt: 116, delta: -269, deltasum: -52188, originalCompressedSizeSum: 212670092\n",
      "Reduction Percentage: -0.063323 %\n",
      "[407/408] cnt: 116, delta: -674, deltasum: -52862, originalCompressedSizeSum: 213280502\n",
      "Reduction Percentage: -0.110418 %\n",
      "[408/408] cnt: 116, delta: -321, deltasum: -53183, originalCompressedSizeSum: 213694685\n",
      "Reduction Percentage: -0.077502 %\n",
      "Final Reduction Percentage: -0.024887 %\n"
     ]
    }
   ],
   "source": [
    "!$SPAN_BATCH_TESTER format --permutation 0352614 --in-span-batch=$DB_PREFIX/span_batch_cache_v2 --out=$DB_PREFIX/format_result --chain-id=$L2_CHAIN_ID | tail -10"
   ]
  }
 ],
 "metadata": {
  "kernelspec": {
   "display_name": "Python 3",
   "language": "python",
   "name": "python3"
  },
  "language_info": {
   "codemirror_mode": {
    "name": "ipython",
    "version": 3
   },
   "file_extension": ".py",
   "mimetype": "text/x-python",
   "name": "python",
   "nbconvert_exporter": "python",
   "pygments_lexer": "ipython3",
   "version": "3.9.6"
  },
  "orig_nbformat": 4
 },
 "nbformat": 4,
 "nbformat_minor": 2
}

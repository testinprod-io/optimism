{
 "cells": [
  {
   "cell_type": "markdown",
   "metadata": {},
   "source": [
    "# Span Batch Analysis - Goerli Data Preparation\n",
    "\n",
    "### Batch Decoder\n",
    "\n",
    "Build `batch_decoder` binary from [pcw109550/batch-decoder-parallel-tx-fetch](https://github.com/testinprod-io/optimism/tree/pcw109550/batch-decoder-parallel-tx-fetch) branch."
   ]
  },
  {
   "cell_type": "code",
   "execution_count": null,
   "metadata": {},
   "outputs": [],
   "source": [
    "!git clone git@github.com:testinprod-io/optimism.git"
   ]
  },
  {
   "cell_type": "code",
   "execution_count": null,
   "metadata": {},
   "outputs": [],
   "source": [
    "!git switch pcw109550/batch-decoder-parallel-tx-fetch\n",
    "!cd optimism/op-node/cmd/batch_decoder\n",
    "!go build && cd -"
   ]
  },
  {
   "cell_type": "markdown",
   "metadata": {},
   "source": [
    "Now we have `batch_decoder` binary at `op-node/cmd/batch_decoder/batch_decoder`."
   ]
  },
  {
   "cell_type": "markdown",
   "metadata": {},
   "source": [
    "### Batch Decoder `fetch`\n",
    "\n",
    "Read channel frames from L1 by reading batch transactions. L1 block range: `[9500000,9520000)`"
   ]
  },
  {
   "cell_type": "code",
   "execution_count": null,
   "metadata": {},
   "outputs": [],
   "source": [
    "!time ./cmd/batch_decoder/batch_decoder fetch --l1=[L1_GOERLI_RPC] --start=9500000  --end=9520000  --inbox=0xff00000000000000000000000000000000000420 --out=./artifacts/goerli/transactions_cache  --sender=0x7431310e026B69BFC676C0013E12A1A11411EEc9 --concurrent-requests=25 "
   ]
  },
  {
   "cell_type": "markdown",
   "metadata": {},
   "source": [
    "### Batch Decoder `reassemble`\n",
    "\n",
    "Reassemble channel frames to channels. "
   ]
  },
  {
   "cell_type": "code",
   "execution_count": null,
   "metadata": {},
   "outputs": [],
   "source": [
    "!time ./cmd/batch_decoder/batch_decoder reassemble --inbox=0xff00000000000000000000000000000000000420 --in=./artifacts/goerli/transactions_cache --out=./artifacts/goerli/channel_cache"
   ]
  },
  {
   "cell_type": "markdown",
   "metadata": {},
   "source": [
    "### Span Batch Tester\n",
    "\n",
    "Build `span_batch_tester` binary with tx encoding selection enabled from [pcw109550/span-batch-tester-with-tx-encoding](https://github.com/testinprod-io/optimism/tree/pcw109550/span-batch-tester-with-tx-encoding) branch."
   ]
  },
  {
   "cell_type": "code",
   "execution_count": null,
   "metadata": {},
   "outputs": [],
   "source": [
    "!git switch pcw109550/span-batch-tester-with-tx-encoding\n",
    "!cd optimism/op-node/cmd/span_batch_tester\n",
    "!go build && cd -"
   ]
  },
  {
   "cell_type": "markdown",
   "metadata": {},
   "source": [
    "Now we have `span_batch_tester` binary at `op-node/cmd/span_batch_tester/span_batch_tester`.\n",
    "\n",
    "### Span Batch Tester `convert`\n",
    "\n",
    "Convert channels with v0 batches to span batches. Try multiple tx encoding types."
   ]
  },
  {
   "cell_type": "markdown",
   "metadata": {},
   "source": [
    "#### `BatchV2TxsV1Type`"
   ]
  },
  {
   "cell_type": "code",
   "execution_count": null,
   "metadata": {},
   "outputs": [],
   "source": [
    "!time ./cmd/span_batch_tester/span_batch_tester convert --in=./artifacts/goerli/channel_cache --out=./artifacts/goerli/span_batch_cache_v1 --l2=[L2_GOERLI_RPC] --genesis-timestamp=1673550516 --chain-id=420 --tx-type=0"
   ]
  },
  {
   "cell_type": "markdown",
   "metadata": {},
   "source": [
    "#### `BatchV2TxsV2Type`"
   ]
  },
  {
   "cell_type": "code",
   "execution_count": null,
   "metadata": {},
   "outputs": [],
   "source": [
    "!time ./cmd/span_batch_tester/span_batch_tester convert --in=./artifacts/goerli/channel_cache --out=./artifacts/goerli/span_batch_cache_v2 --l2=[L2_GOERLI_RPC] --genesis-timestamp=1673550516 --chain-id=420 --tx-type=1"
   ]
  },
  {
   "cell_type": "markdown",
   "metadata": {},
   "source": [
    "#### `BatchV2TxsV3Type`"
   ]
  },
  {
   "cell_type": "code",
   "execution_count": null,
   "metadata": {},
   "outputs": [],
   "source": [
    "!time ./cmd/span_batch_tester/span_batch_tester convert --in=./artifacts/goerli/channel_cache --out=./artifacts/goerli/span_batch_cache_v3 --l2=[L2_GOERLI_RPC] --genesis-timestamp=1673550516 --chain-id=420 --tx-type=2"
   ]
  },
  {
   "cell_type": "markdown",
   "metadata": {},
   "source": [
    "### Span Batch Tester `analyze`\n",
    "\n",
    "Analyze channels with v0 batches by comparing with corresponding span batches."
   ]
  },
  {
   "cell_type": "markdown",
   "metadata": {},
   "source": [
    "#### `BatchV2TxsV1Type`"
   ]
  },
  {
   "cell_type": "code",
   "execution_count": null,
   "metadata": {},
   "outputs": [],
   "source": [
    "!time ./cmd/span_batch_tester/span_batch_tester analyze --in-channel=./artifacts/goerli/channel_cache --in-span-batch=./artifacts/goerli/span_batch_cache_v1 --out=./artifacts/goerli/result_v1"
   ]
  },
  {
   "cell_type": "markdown",
   "metadata": {},
   "source": [
    "#### `BatchV2TxsV2Type`"
   ]
  },
  {
   "cell_type": "code",
   "execution_count": null,
   "metadata": {},
   "outputs": [],
   "source": [
    "!time ./cmd/span_batch_tester/span_batch_tester analyze --in-channel=./artifacts/goerli/channel_cache --in-span-batch=./artifacts/goerli/span_batch_cache_v2 --out=./artifacts/goerli/result_v2"
   ]
  },
  {
   "cell_type": "markdown",
   "metadata": {},
   "source": [
    "#### `BatchV2TxsV3Type`"
   ]
  },
  {
   "cell_type": "code",
   "execution_count": null,
   "metadata": {},
   "outputs": [],
   "source": [
    "!time ./cmd/span_batch_tester/span_batch_tester analyze --in-channel=./artifacts/goerli/channel_cache --in-span-batch=./artifacts/goerli/span_batch_cache_v3 --out=./artifacts/goerli/result_v3"
   ]
  }
 ],
 "metadata": {
  "kernelspec": {
   "display_name": "Python 3",
   "language": "python",
   "name": "python3"
  },
  "language_info": {
   "codemirror_mode": {
    "name": "ipython",
    "version": 3
   },
   "file_extension": ".py",
   "mimetype": "text/x-python",
   "name": "python",
   "nbconvert_exporter": "python",
   "pygments_lexer": "ipython3",
   "version": "3.9.6"
  },
  "orig_nbformat": 4
 },
 "nbformat": 4,
 "nbformat_minor": 2
}
